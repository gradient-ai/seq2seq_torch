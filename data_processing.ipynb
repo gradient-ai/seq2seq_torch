{
 "cells": [
  {
   "cell_type": "code",
   "execution_count": null,
   "id": "11e51755-0a57-4a01-9ae7-f8e7ab1a9b3c",
   "metadata": {
    "collapsed": false,
    "gradient": {
     "editing": false,
     "id": "11e51755-0a57-4a01-9ae7-f8e7ab1a9b3c",
     "kernelId": "9582e023-23d2-45d8-8cd8-b4f5ca9cf1f6",
     "source_hidden": false
    }
   },
   "outputs": [
    {
     "name": "stdout",
     "output_type": "stream",
     "text": [
      "Looking in indexes: https://pypi.org/simple, https://pypi.ngc.nvidia.com\r\n"
     ]
    },
    {
     "name": "stdout",
     "output_type": "stream",
     "text": [
      "\u001b[31mERROR: Could not find a version that satisfies the requirement pickle (from versions: none)\u001b[0m\r\n",
      "\u001b[31mERROR: No matching distribution found for pickle\u001b[0m\r\n"
     ]
    }
   ],
   "source": [
    "!pip install pickle\n"
   ]
  },
  {
   "cell_type": "code",
   "execution_count": null,
   "id": "3b94a25b-85e2-4063-a80b-8d846d244b0b",
   "metadata": {
    "collapsed": false,
    "gradient": {
     "editing": false,
     "id": "3b94a25b-85e2-4063-a80b-8d846d244b0b",
     "kernelId": "9582e023-23d2-45d8-8cd8-b4f5ca9cf1f6",
     "source_hidden": false
    }
   },
   "outputs": [],
   "source": [
    "import string\n",
    "import re\n",
    "from pickle import dump, load\n",
    "from unicodedata import normalize\n",
    "import pickle\n",
    "\n",
    "\n",
    "from __future__ import unicode_literals, print_function, division\n",
    "from io import open\n",
    "import unicodedata\n",
    "import string\n",
    "import re\n",
    "import random\n",
    "\n",
    "import torch\n",
    "import torch.nn as nn\n",
    "from torch import optim\n",
    "import torch.nn.functional as F\n",
    "\n",
    "import pandas as pd\n",
    "\n",
    "device = torch.device(\"cuda\" if torch.cuda.is_available() else \"cpu\")\n"
   ]
  },
  {
   "cell_type": "code",
   "execution_count": null,
   "id": "cf00ad67-52c8-4732-af61-d93bdc1d4637",
   "metadata": {
    "collapsed": false,
    "gradient": {
     "editing": false,
     "id": "cf00ad67-52c8-4732-af61-d93bdc1d4637",
     "kernelId": "9582e023-23d2-45d8-8cd8-b4f5ca9cf1f6",
     "source_hidden": false
    }
   },
   "outputs": [],
   "source": [
    "# load doc into memory\n",
    "def load_doc(filename):\n",
    "\t# open the file as read only\n",
    "\tfile = open(filename, mode='rt', encoding='utf-8')\n",
    "\t# read all text\n",
    "\ttext = file.read()\n",
    "\t# close the file\n",
    "\tfile.close()\n",
    "\treturn text\n",
    "\n",
    "# split a loaded document into sentences\n",
    "def to_sentences(doc):\n",
    "\treturn doc.strip().split('\\n')\n",
    "\n",
    "# clean a list of lines\n",
    "def clean_lines(lines):\n",
    "\tcleaned = list()\n",
    "\t# prepare regex for char filtering\n",
    "\tre_print = re.compile('[^%s]' % re.escape(string.printable))\n",
    "\t# prepare translation table for removing punctuation\n",
    "\ttable = str.maketrans('', '', string.punctuation)\n",
    "\tfor line in lines:\n",
    "\t\t# normalize unicode characters\n",
    "\t\tline = normalize('NFD', line).encode('ascii', 'ignore')\n",
    "\t\tline = line.decode('UTF-8')\n",
    "\t\t# tokenize on white space\n",
    "\t\tline = line.split()\n",
    "\t\t# convert to lower case\n",
    "\t\tline = [word.lower() for word in line]\n",
    "\t\t# remove punctuation from each token\n",
    "\t\tline = [word.translate(table) for word in line]\n",
    "\t\t# remove non-printable chars form each token\n",
    "\t\tline = [re_print.sub('', w) for w in line]\n",
    "\t\t# remove tokens with numbers in them\n",
    "\t\tline = [word for word in line if word.isalpha()]\n",
    "\t\t# store as string\n",
    "\t\tcleaned.append(' '.join(line))\n",
    "\treturn cleaned\n",
    "\n",
    "# save a list of clean sentences to file\n",
    "def save_clean_sentences(sentences, filename):\n",
    "\tdump(sentences, open(filename, 'wb'))\n",
    "\tprint('Saved: %s' % filename)\n",
    "\n",
    "# load English data\n",
    "filename = 'training/europarl-v7.fr-en.en'\n",
    "doc = load_doc(filename)\n",
    "sentences = to_sentences(doc)\n",
    "sentences = clean_lines(sentences)\n",
    "save_clean_sentences(sentences, 'english.pkl')\n",
    "# spot check\n",
    "for i in range(10):\n",
    "\tprint(sentences[i])\n",
    "\n",
    "# load French data\n",
    "filename = 'training/europarl-v7.fr-en.fr'\n",
    "doc = load_doc(filename)\n",
    "sentences = to_sentences(doc)\n",
    "sentences = clean_lines(sentences)\n",
    "save_clean_sentences(sentences, 'french.pkl')\n",
    "# spot check\n",
    "for i in range(1):\n",
    "\tprint(sentences[i])"
   ]
  },
  {
   "cell_type": "code",
   "execution_count": null,
   "id": "93f110ed-0b1e-44a0-829c-fdba707d7d9f",
   "metadata": {
    "collapsed": true,
    "gradient": {
     "editing": false,
     "id": "93f110ed-0b1e-44a0-829c-fdba707d7d9f",
     "kernelId": "9582e023-23d2-45d8-8cd8-b4f5ca9cf1f6",
     "source_hidden": false
    }
   },
   "outputs": [],
   "source": [
    "\n",
    "with open('english.pkl', 'rb') as f:\n",
    "    eng_voc = pickle.load(f)\n",
    "eng_voc"
   ]
  },
  {
   "cell_type": "code",
   "execution_count": null,
   "id": "4cdca7c6-9ac9-4854-9bf5-8a331dc2dff5",
   "metadata": {
    "collapsed": true,
    "gradient": {
     "editing": false,
     "id": "4cdca7c6-9ac9-4854-9bf5-8a331dc2dff5",
     "kernelId": "9582e023-23d2-45d8-8cd8-b4f5ca9cf1f6",
     "source_hidden": false
    }
   },
   "outputs": [
    {
     "ename": "NameError",
     "evalue": "name 'pickle' is not defined",
     "output_type": "error",
     "traceback": [
      "\u001b[0;31m---------------------------------------------------------------------------\u001b[0m",
      "\u001b[0;31mNameError\u001b[0m                                 Traceback (most recent call last)",
      "\u001b[0;32m/tmp/ipykernel_121/1514338614.py\u001b[0m in \u001b[0;36m<module>\u001b[0;34m\u001b[0m\n\u001b[1;32m      1\u001b[0m \u001b[0;32mwith\u001b[0m \u001b[0mopen\u001b[0m\u001b[0;34m(\u001b[0m\u001b[0;34m'french.pkl'\u001b[0m\u001b[0;34m,\u001b[0m \u001b[0;34m'rb'\u001b[0m\u001b[0;34m)\u001b[0m \u001b[0;32mas\u001b[0m \u001b[0mf\u001b[0m\u001b[0;34m:\u001b[0m\u001b[0;34m\u001b[0m\u001b[0;34m\u001b[0m\u001b[0m\n\u001b[0;32m----> 2\u001b[0;31m     \u001b[0mfr_voc\u001b[0m \u001b[0;34m=\u001b[0m \u001b[0mpickle\u001b[0m\u001b[0;34m.\u001b[0m\u001b[0mload\u001b[0m\u001b[0;34m(\u001b[0m\u001b[0mf\u001b[0m\u001b[0;34m)\u001b[0m\u001b[0;34m\u001b[0m\u001b[0;34m\u001b[0m\u001b[0m\n\u001b[0m\u001b[1;32m      3\u001b[0m \u001b[0mfr_voc\u001b[0m\u001b[0;34m\u001b[0m\u001b[0;34m\u001b[0m\u001b[0m\n",
      "\u001b[0;31mNameError\u001b[0m: name 'pickle' is not defined"
     ]
    }
   ],
   "source": [
    "with open('french.pkl', 'rb') as f:\n",
    "    fr_voc = pickle.load(f)\n",
    "fr_voc"
   ]
  },
  {
   "cell_type": "code",
   "execution_count": null,
   "id": "7803eed2-2f46-40de-819e-4472e3b69761",
   "metadata": {
    "collapsed": false,
    "gradient": {
     "editing": false,
     "id": "7803eed2-2f46-40de-819e-4472e3b69761",
     "kernelId": "9582e023-23d2-45d8-8cd8-b4f5ca9cf1f6",
     "source_hidden": false
    }
   },
   "outputs": [
    {
     "name": "stdout",
     "output_type": "stream",
     "text": [
      "2007723\n"
     ]
    },
    {
     "data": {
      "text/plain": [
       "2007723"
      ]
     },
     "execution_count": 82,
     "metadata": {},
     "output_type": "execute_result"
    }
   ],
   "source": [
    "print(len(eng_voc))\n",
    "len(fr_voc)"
   ]
  },
  {
   "cell_type": "code",
   "execution_count": null,
   "id": "b4d82589-1637-4daa-9199-e1eed2c46ab6",
   "metadata": {
    "collapsed": false,
    "gradient": {
     "editing": false,
     "id": "b4d82589-1637-4daa-9199-e1eed2c46ab6",
     "kernelId": "9582e023-23d2-45d8-8cd8-b4f5ca9cf1f6",
     "source_hidden": false
    }
   },
   "outputs": [
    {
     "data": {
      "text/html": [
       "<div>\n",
       "<style scoped>\n",
       "    .dataframe tbody tr th:only-of-type {\n",
       "        vertical-align: middle;\n",
       "    }\n",
       "\n",
       "    .dataframe tbody tr th {\n",
       "        vertical-align: top;\n",
       "    }\n",
       "\n",
       "    .dataframe thead th {\n",
       "        text-align: right;\n",
       "    }\n",
       "</style>\n",
       "<table border=\"1\" class=\"dataframe\">\n",
       "  <thead>\n",
       "    <tr style=\"text-align: right;\">\n",
       "      <th></th>\n",
       "      <th>English</th>\n",
       "      <th>French</th>\n",
       "    </tr>\n",
       "  </thead>\n",
       "  <tbody>\n",
       "    <tr>\n",
       "      <th>0</th>\n",
       "      <td>resumption of the session</td>\n",
       "      <td>reprise de la session</td>\n",
       "    </tr>\n",
       "    <tr>\n",
       "      <th>1</th>\n",
       "      <td>i declare resumed the session of the european ...</td>\n",
       "      <td>je declare reprise la session du parlement eur...</td>\n",
       "    </tr>\n",
       "    <tr>\n",
       "      <th>2</th>\n",
       "      <td>although as you will have seen the dreaded mil...</td>\n",
       "      <td>comme vous avez pu le constater le grand bogue...</td>\n",
       "    </tr>\n",
       "    <tr>\n",
       "      <th>3</th>\n",
       "      <td>you have requested a debate on this subject in...</td>\n",
       "      <td>vous avez souhaite un debat a ce sujet dans le...</td>\n",
       "    </tr>\n",
       "    <tr>\n",
       "      <th>4</th>\n",
       "      <td>in the meantime i should like to observe a min...</td>\n",
       "      <td>en attendant je souhaiterais comme un certain ...</td>\n",
       "    </tr>\n",
       "    <tr>\n",
       "      <th>...</th>\n",
       "      <td>...</td>\n",
       "      <td>...</td>\n",
       "    </tr>\n",
       "    <tr>\n",
       "      <th>2007718</th>\n",
       "      <td>i would also like although they are absent to ...</td>\n",
       "      <td>je me permettrai meme bien quils soient absent...</td>\n",
       "    </tr>\n",
       "    <tr>\n",
       "      <th>2007719</th>\n",
       "      <td>i am not going to reopen the millennium or not...</td>\n",
       "      <td>je ne rouvrirai pas le debat sur le millenaire...</td>\n",
       "    </tr>\n",
       "    <tr>\n",
       "      <th>2007720</th>\n",
       "      <td>adjournment of the session</td>\n",
       "      <td>interruption de la session</td>\n",
       "    </tr>\n",
       "    <tr>\n",
       "      <th>2007721</th>\n",
       "      <td>i declare the session of the european parliame...</td>\n",
       "      <td>je declare interrompue la session du parlement...</td>\n",
       "    </tr>\n",
       "    <tr>\n",
       "      <th>2007722</th>\n",
       "      <td>the sitting was closed at am</td>\n",
       "      <td>la seance est levee a</td>\n",
       "    </tr>\n",
       "  </tbody>\n",
       "</table>\n",
       "<p>2007723 rows × 2 columns</p>\n",
       "</div>"
      ],
      "text/plain": [
       "                                                   English  \\\n",
       "0                                resumption of the session   \n",
       "1        i declare resumed the session of the european ...   \n",
       "2        although as you will have seen the dreaded mil...   \n",
       "3        you have requested a debate on this subject in...   \n",
       "4        in the meantime i should like to observe a min...   \n",
       "...                                                    ...   \n",
       "2007718  i would also like although they are absent to ...   \n",
       "2007719  i am not going to reopen the millennium or not...   \n",
       "2007720                         adjournment of the session   \n",
       "2007721  i declare the session of the european parliame...   \n",
       "2007722                       the sitting was closed at am   \n",
       "\n",
       "                                                    French  \n",
       "0                                    reprise de la session  \n",
       "1        je declare reprise la session du parlement eur...  \n",
       "2        comme vous avez pu le constater le grand bogue...  \n",
       "3        vous avez souhaite un debat a ce sujet dans le...  \n",
       "4        en attendant je souhaiterais comme un certain ...  \n",
       "...                                                    ...  \n",
       "2007718  je me permettrai meme bien quils soient absent...  \n",
       "2007719  je ne rouvrirai pas le debat sur le millenaire...  \n",
       "2007720                         interruption de la session  \n",
       "2007721  je declare interrompue la session du parlement...  \n",
       "2007722                              la seance est levee a  \n",
       "\n",
       "[2007723 rows x 2 columns]"
      ]
     },
     "execution_count": 13,
     "metadata": {},
     "output_type": "execute_result"
    }
   ],
   "source": [
    "data = pd.DataFrame(zip(eng_voc, fr_voc), columns = ['English', 'French'])\n",
    "data"
   ]
  },
  {
   "cell_type": "code",
   "execution_count": null,
   "id": "ac4d5c76-ab60-453f-9b29-611b25c79103",
   "metadata": {
    "collapsed": false,
    "gradient": {
     "editing": false,
     "execution_count": 83,
     "id": "ac4d5c76-ab60-453f-9b29-611b25c79103",
     "kernelId": "9582e023-23d2-45d8-8cd8-b4f5ca9cf1f6",
     "source_hidden": false
    }
   },
   "outputs": [
    {
     "name": "stdout",
     "output_type": "stream",
     "text": [
      "--2022-03-17 23:57:07--  https://download.pytorch.org/tutorial/data.zip\r\n",
      "Resolving download.pytorch.org (download.pytorch.org)... "
     ]
    },
    {
     "name": "stdout",
     "output_type": "stream",
     "text": [
      "18.67.76.99, 18.67.76.37, 18.67.76.42, ...\r\n",
      "Connecting to download.pytorch.org (download.pytorch.org)|18.67.76.99|:443... connected.\r\n",
      "HTTP request sent, awaiting response... "
     ]
    },
    {
     "name": "stdout",
     "output_type": "stream",
     "text": [
      "200 OK\r\n",
      "Length: 2882130 (2.7M) [application/zip]\r\n",
      "Saving to: ‘data.zip’\r\n",
      "\r\n",
      "\r",
      "data.zip              0%[                    ]       0  --.-KB/s               "
     ]
    },
    {
     "name": "stdout",
     "output_type": "stream",
     "text": [
      "\r",
      "data.zip            100%[===================>]   2.75M  --.-KB/s    in 0.1s    \r\n",
      "\r\n",
      "2022-03-17 23:57:07 (20.9 MB/s) - ‘data.zip’ saved [2882130/2882130]\r\n",
      "\r\n"
     ]
    },
    {
     "name": "stdout",
     "output_type": "stream",
     "text": [
      "Archive:  data.zip\r\n",
      "   creating: data/\r\n"
     ]
    },
    {
     "name": "stdout",
     "output_type": "stream",
     "text": [
      "  inflating: data/eng-fra.txt        "
     ]
    },
    {
     "name": "stdout",
     "output_type": "stream",
     "text": [
      "\r\n"
     ]
    },
    {
     "name": "stdout",
     "output_type": "stream",
     "text": [
      "   creating: data/names/\r\n"
     ]
    },
    {
     "name": "stdout",
     "output_type": "stream",
     "text": [
      "  inflating: data/names/Arabic.txt   \r\n",
      "  inflating: data/names/Chinese.txt  \r\n",
      "  inflating: data/names/Czech.txt    \r\n",
      "  inflating: data/names/Dutch.txt    \r\n",
      "  inflating: data/names/English.txt  \r\n",
      "  inflating: data/names/French.txt   \r\n",
      "  inflating: data/names/German.txt   \r\n",
      "  inflating: data/names/Greek.txt    \r\n",
      "  inflating: data/names/Irish.txt    \r\n",
      "  inflating: data/names/Italian.txt  \r\n",
      "  inflating: data/names/Japanese.txt  \r\n",
      "  inflating: data/names/Korean.txt   \r\n",
      "  inflating: data/names/Polish.txt   \r\n",
      "  inflating: data/names/Portuguese.txt  \r\n",
      "  inflating: data/names/Russian.txt  \r\n",
      "  inflating: data/names/Scottish.txt  \r\n",
      "  inflating: data/names/Spanish.txt  \r\n",
      "  inflating: data/names/Vietnamese.txt  \r\n"
     ]
    }
   ],
   "source": [
    "!wget https://download.pytorch.org/tutorial/data.zip\n",
    "!unzip data.zip"
   ]
  },
  {
   "cell_type": "code",
   "execution_count": null,
   "id": "57ccfbcf-37cf-437c-8b08-29fb02cfbab1",
   "metadata": {
    "collapsed": false,
    "gradient": {
     "editing": false,
     "id": "57ccfbcf-37cf-437c-8b08-29fb02cfbab1",
     "kernelId": "9582e023-23d2-45d8-8cd8-b4f5ca9cf1f6",
     "source_hidden": false
    }
   },
   "outputs": [
    {
     "name": "stderr",
     "output_type": "stream",
     "text": [
      "/opt/conda/lib/python3.8/site-packages/IPython/core/interactiveshell.py:3444: FutureWarning: In a future version of pandas all arguments of read_csv except for the argument 'filepath_or_buffer' will be keyword-only.\n",
      "  exec(code_obj, self.user_global_ns, self.user_ns)\n"
     ]
    },
    {
     "data": {
      "text/html": [
       "<div>\n",
       "<style scoped>\n",
       "    .dataframe tbody tr th:only-of-type {\n",
       "        vertical-align: middle;\n",
       "    }\n",
       "\n",
       "    .dataframe tbody tr th {\n",
       "        vertical-align: top;\n",
       "    }\n",
       "\n",
       "    .dataframe thead th {\n",
       "        text-align: right;\n",
       "    }\n",
       "</style>\n",
       "<table border=\"1\" class=\"dataframe\">\n",
       "  <thead>\n",
       "    <tr style=\"text-align: right;\">\n",
       "      <th></th>\n",
       "      <th>English</th>\n",
       "      <th>French</th>\n",
       "    </tr>\n",
       "  </thead>\n",
       "  <tbody>\n",
       "    <tr>\n",
       "      <th>0</th>\n",
       "      <td>Go.</td>\n",
       "      <td>Va !</td>\n",
       "    </tr>\n",
       "    <tr>\n",
       "      <th>1</th>\n",
       "      <td>Run!</td>\n",
       "      <td>Cours !</td>\n",
       "    </tr>\n",
       "    <tr>\n",
       "      <th>2</th>\n",
       "      <td>Run!</td>\n",
       "      <td>Courez !</td>\n",
       "    </tr>\n",
       "    <tr>\n",
       "      <th>3</th>\n",
       "      <td>Wow!</td>\n",
       "      <td>Ça alors !</td>\n",
       "    </tr>\n",
       "    <tr>\n",
       "      <th>4</th>\n",
       "      <td>Fire!</td>\n",
       "      <td>Au feu !</td>\n",
       "    </tr>\n",
       "    <tr>\n",
       "      <th>...</th>\n",
       "      <td>...</td>\n",
       "      <td>...</td>\n",
       "    </tr>\n",
       "    <tr>\n",
       "      <th>135837</th>\n",
       "      <td>A carbon footprint is the amount of carbon dio...</td>\n",
       "      <td>Une empreinte carbone est la somme de pollutio...</td>\n",
       "    </tr>\n",
       "    <tr>\n",
       "      <th>135838</th>\n",
       "      <td>Death is something that we're often discourage...</td>\n",
       "      <td>La mort est une chose qu'on nous décourage sou...</td>\n",
       "    </tr>\n",
       "    <tr>\n",
       "      <th>135839</th>\n",
       "      <td>Since there are usually multiple websites on a...</td>\n",
       "      <td>Puisqu'il y a de multiples sites web sur chaqu...</td>\n",
       "    </tr>\n",
       "    <tr>\n",
       "      <th>135840</th>\n",
       "      <td>If someone who doesn't know your background sa...</td>\n",
       "      <td>Si quelqu'un qui ne connaît pas vos antécédent...</td>\n",
       "    </tr>\n",
       "    <tr>\n",
       "      <th>135841</th>\n",
       "      <td>It may be impossible to get a completely error...</td>\n",
       "      <td>Il est peut-être impossible d'obtenir un Corpu...</td>\n",
       "    </tr>\n",
       "  </tbody>\n",
       "</table>\n",
       "<p>135842 rows × 2 columns</p>\n",
       "</div>"
      ],
      "text/plain": [
       "                                                  English  \\\n",
       "0                                                     Go.   \n",
       "1                                                    Run!   \n",
       "2                                                    Run!   \n",
       "3                                                    Wow!   \n",
       "4                                                   Fire!   \n",
       "...                                                   ...   \n",
       "135837  A carbon footprint is the amount of carbon dio...   \n",
       "135838  Death is something that we're often discourage...   \n",
       "135839  Since there are usually multiple websites on a...   \n",
       "135840  If someone who doesn't know your background sa...   \n",
       "135841  It may be impossible to get a completely error...   \n",
       "\n",
       "                                                   French  \n",
       "0                                                    Va !  \n",
       "1                                                 Cours !  \n",
       "2                                                Courez !  \n",
       "3                                              Ça alors !  \n",
       "4                                                Au feu !  \n",
       "...                                                   ...  \n",
       "135837  Une empreinte carbone est la somme de pollutio...  \n",
       "135838  La mort est une chose qu'on nous décourage sou...  \n",
       "135839  Puisqu'il y a de multiples sites web sur chaqu...  \n",
       "135840  Si quelqu'un qui ne connaît pas vos antécédent...  \n",
       "135841  Il est peut-être impossible d'obtenir un Corpu...  \n",
       "\n",
       "[135842 rows x 2 columns]"
      ]
     },
     "execution_count": 85,
     "metadata": {},
     "output_type": "execute_result"
    }
   ],
   "source": [
    "#the original dataset for the tutorial\n",
    "data2 = pd.read_csv('data/eng-fra.txt', '\\t', names = ['English', 'French'])\n",
    "\n",
    "data2"
   ]
  },
  {
   "cell_type": "code",
   "execution_count": null,
   "id": "40c3ba90-b7c7-4472-bac2-597c57ebb39f",
   "metadata": {
    "collapsed": false,
    "gradient": {
     "editing": false,
     "id": "40c3ba90-b7c7-4472-bac2-597c57ebb39f",
     "kernelId": "9582e023-23d2-45d8-8cd8-b4f5ca9cf1f6",
     "source_hidden": false
    }
   },
   "outputs": [
    {
     "data": {
      "text/html": [
       "<div>\n",
       "<style scoped>\n",
       "    .dataframe tbody tr th:only-of-type {\n",
       "        vertical-align: middle;\n",
       "    }\n",
       "\n",
       "    .dataframe tbody tr th {\n",
       "        vertical-align: top;\n",
       "    }\n",
       "\n",
       "    .dataframe thead th {\n",
       "        text-align: right;\n",
       "    }\n",
       "</style>\n",
       "<table border=\"1\" class=\"dataframe\">\n",
       "  <thead>\n",
       "    <tr style=\"text-align: right;\">\n",
       "      <th></th>\n",
       "      <th>English</th>\n",
       "      <th>French</th>\n",
       "    </tr>\n",
       "  </thead>\n",
       "  <tbody>\n",
       "    <tr>\n",
       "      <th>0</th>\n",
       "      <td>resumption of the session</td>\n",
       "      <td>reprise de la session</td>\n",
       "    </tr>\n",
       "    <tr>\n",
       "      <th>1</th>\n",
       "      <td>i declare resumed the session of the european ...</td>\n",
       "      <td>je declare reprise la session du parlement eur...</td>\n",
       "    </tr>\n",
       "    <tr>\n",
       "      <th>2</th>\n",
       "      <td>although as you will have seen the dreaded mil...</td>\n",
       "      <td>comme vous avez pu le constater le grand bogue...</td>\n",
       "    </tr>\n",
       "    <tr>\n",
       "      <th>3</th>\n",
       "      <td>you have requested a debate on this subject in...</td>\n",
       "      <td>vous avez souhaite un debat a ce sujet dans le...</td>\n",
       "    </tr>\n",
       "    <tr>\n",
       "      <th>4</th>\n",
       "      <td>in the meantime i should like to observe a min...</td>\n",
       "      <td>en attendant je souhaiterais comme un certain ...</td>\n",
       "    </tr>\n",
       "    <tr>\n",
       "      <th>...</th>\n",
       "      <td>...</td>\n",
       "      <td>...</td>\n",
       "    </tr>\n",
       "    <tr>\n",
       "      <th>2279402</th>\n",
       "      <td>A carbon footprint is the amount of carbon dio...</td>\n",
       "      <td>Une empreinte carbone est la somme de pollutio...</td>\n",
       "    </tr>\n",
       "    <tr>\n",
       "      <th>2279403</th>\n",
       "      <td>Death is something that we're often discourage...</td>\n",
       "      <td>La mort est une chose qu'on nous décourage sou...</td>\n",
       "    </tr>\n",
       "    <tr>\n",
       "      <th>2279404</th>\n",
       "      <td>Since there are usually multiple websites on a...</td>\n",
       "      <td>Puisqu'il y a de multiples sites web sur chaqu...</td>\n",
       "    </tr>\n",
       "    <tr>\n",
       "      <th>2279405</th>\n",
       "      <td>If someone who doesn't know your background sa...</td>\n",
       "      <td>Si quelqu'un qui ne connaît pas vos antécédent...</td>\n",
       "    </tr>\n",
       "    <tr>\n",
       "      <th>2279406</th>\n",
       "      <td>It may be impossible to get a completely error...</td>\n",
       "      <td>Il est peut-être impossible d'obtenir un Corpu...</td>\n",
       "    </tr>\n",
       "  </tbody>\n",
       "</table>\n",
       "<p>2279407 rows × 2 columns</p>\n",
       "</div>"
      ],
      "text/plain": [
       "                                                   English  \\\n",
       "0                                resumption of the session   \n",
       "1        i declare resumed the session of the european ...   \n",
       "2        although as you will have seen the dreaded mil...   \n",
       "3        you have requested a debate on this subject in...   \n",
       "4        in the meantime i should like to observe a min...   \n",
       "...                                                    ...   \n",
       "2279402  A carbon footprint is the amount of carbon dio...   \n",
       "2279403  Death is something that we're often discourage...   \n",
       "2279404  Since there are usually multiple websites on a...   \n",
       "2279405  If someone who doesn't know your background sa...   \n",
       "2279406  It may be impossible to get a completely error...   \n",
       "\n",
       "                                                    French  \n",
       "0                                    reprise de la session  \n",
       "1        je declare reprise la session du parlement eur...  \n",
       "2        comme vous avez pu le constater le grand bogue...  \n",
       "3        vous avez souhaite un debat a ce sujet dans le...  \n",
       "4        en attendant je souhaiterais comme un certain ...  \n",
       "...                                                    ...  \n",
       "2279402  Une empreinte carbone est la somme de pollutio...  \n",
       "2279403  La mort est une chose qu'on nous décourage sou...  \n",
       "2279404  Puisqu'il y a de multiples sites web sur chaqu...  \n",
       "2279405  Si quelqu'un qui ne connaît pas vos antécédent...  \n",
       "2279406  Il est peut-être impossible d'obtenir un Corpu...  \n",
       "\n",
       "[2279407 rows x 2 columns]"
      ]
     },
     "execution_count": 86,
     "metadata": {},
     "output_type": "execute_result"
    }
   ],
   "source": [
    "#concat the two dfs\n",
    "data = pd.concat([data,data2], ignore_index= True, axis = 0)\n",
    "\n",
    "data"
   ]
  },
  {
   "cell_type": "code",
   "execution_count": null,
   "id": "4f493564-8735-44fb-ae9c-5b5276ebdece",
   "metadata": {
    "collapsed": false,
    "gradient": {
     "editing": false,
     "id": "4f493564-8735-44fb-ae9c-5b5276ebdece",
     "kernelId": "9582e023-23d2-45d8-8cd8-b4f5ca9cf1f6",
     "source_hidden": false
    }
   },
   "outputs": [],
   "source": [
    "data.to_csv('eng-fra.txt', sep = \"\\t\")"
   ]
  },
  {
   "cell_type": "code",
   "execution_count": null,
   "id": "733d3bba-b4d5-4fb7-8686-8c69b051bb4e",
   "metadata": {
    "collapsed": false,
    "gradient": {
     "editing": false,
     "id": "733d3bba-b4d5-4fb7-8686-8c69b051bb4e",
     "kernelId": "9582e023-23d2-45d8-8cd8-b4f5ca9cf1f6",
     "source_hidden": false
    }
   },
   "outputs": [
    {
     "data": {
      "text/html": [
       "<div>\n",
       "<style scoped>\n",
       "    .dataframe tbody tr th:only-of-type {\n",
       "        vertical-align: middle;\n",
       "    }\n",
       "\n",
       "    .dataframe tbody tr th {\n",
       "        vertical-align: top;\n",
       "    }\n",
       "\n",
       "    .dataframe thead th {\n",
       "        text-align: right;\n",
       "    }\n",
       "</style>\n",
       "<table border=\"1\" class=\"dataframe\">\n",
       "  <thead>\n",
       "    <tr style=\"text-align: right;\">\n",
       "      <th></th>\n",
       "      <th>English</th>\n",
       "      <th>French</th>\n",
       "    </tr>\n",
       "  </thead>\n",
       "  <tbody>\n",
       "    <tr>\n",
       "      <th>0</th>\n",
       "      <td>resumption of the session</td>\n",
       "      <td>reprise de la session</td>\n",
       "    </tr>\n",
       "    <tr>\n",
       "      <th>1</th>\n",
       "      <td>i declare resumed the session of the european ...</td>\n",
       "      <td>je declare reprise la session du parlement eur...</td>\n",
       "    </tr>\n",
       "    <tr>\n",
       "      <th>2</th>\n",
       "      <td>although as you will have seen the dreaded mil...</td>\n",
       "      <td>comme vous avez pu le constater le grand bogue...</td>\n",
       "    </tr>\n",
       "    <tr>\n",
       "      <th>3</th>\n",
       "      <td>you have requested a debate on this subject in...</td>\n",
       "      <td>vous avez souhaite un debat a ce sujet dans le...</td>\n",
       "    </tr>\n",
       "    <tr>\n",
       "      <th>4</th>\n",
       "      <td>in the meantime i should like to observe a min...</td>\n",
       "      <td>en attendant je souhaiterais comme un certain ...</td>\n",
       "    </tr>\n",
       "    <tr>\n",
       "      <th>...</th>\n",
       "      <td>...</td>\n",
       "      <td>...</td>\n",
       "    </tr>\n",
       "    <tr>\n",
       "      <th>2279402</th>\n",
       "      <td>A carbon footprint is the amount of carbon dio...</td>\n",
       "      <td>Une empreinte carbone est la somme de pollutio...</td>\n",
       "    </tr>\n",
       "    <tr>\n",
       "      <th>2279403</th>\n",
       "      <td>Death is something that we're often discourage...</td>\n",
       "      <td>La mort est une chose qu'on nous décourage sou...</td>\n",
       "    </tr>\n",
       "    <tr>\n",
       "      <th>2279404</th>\n",
       "      <td>Since there are usually multiple websites on a...</td>\n",
       "      <td>Puisqu'il y a de multiples sites web sur chaqu...</td>\n",
       "    </tr>\n",
       "    <tr>\n",
       "      <th>2279405</th>\n",
       "      <td>If someone who doesn't know your background sa...</td>\n",
       "      <td>Si quelqu'un qui ne connaît pas vos antécédent...</td>\n",
       "    </tr>\n",
       "    <tr>\n",
       "      <th>2279406</th>\n",
       "      <td>It may be impossible to get a completely error...</td>\n",
       "      <td>Il est peut-être impossible d'obtenir un Corpu...</td>\n",
       "    </tr>\n",
       "  </tbody>\n",
       "</table>\n",
       "<p>2279407 rows × 2 columns</p>\n",
       "</div>"
      ],
      "text/plain": [
       "                                                   English  \\\n",
       "0                                resumption of the session   \n",
       "1        i declare resumed the session of the european ...   \n",
       "2        although as you will have seen the dreaded mil...   \n",
       "3        you have requested a debate on this subject in...   \n",
       "4        in the meantime i should like to observe a min...   \n",
       "...                                                    ...   \n",
       "2279402  A carbon footprint is the amount of carbon dio...   \n",
       "2279403  Death is something that we're often discourage...   \n",
       "2279404  Since there are usually multiple websites on a...   \n",
       "2279405  If someone who doesn't know your background sa...   \n",
       "2279406  It may be impossible to get a completely error...   \n",
       "\n",
       "                                                    French  \n",
       "0                                    reprise de la session  \n",
       "1        je declare reprise la session du parlement eur...  \n",
       "2        comme vous avez pu le constater le grand bogue...  \n",
       "3        vous avez souhaite un debat a ce sujet dans le...  \n",
       "4        en attendant je souhaiterais comme un certain ...  \n",
       "...                                                    ...  \n",
       "2279402  Une empreinte carbone est la somme de pollutio...  \n",
       "2279403  La mort est une chose qu'on nous décourage sou...  \n",
       "2279404  Puisqu'il y a de multiples sites web sur chaqu...  \n",
       "2279405  Si quelqu'un qui ne connaît pas vos antécédent...  \n",
       "2279406  Il est peut-être impossible d'obtenir un Corpu...  \n",
       "\n",
       "[2279407 rows x 2 columns]"
      ]
     },
     "execution_count": 87,
     "metadata": {},
     "output_type": "execute_result"
    }
   ],
   "source": [
    "data"
   ]
  },
  {
   "cell_type": "code",
   "execution_count": null,
   "id": "9e195956-0e6f-4048-b390-5edfec46fe76",
   "metadata": {
    "collapsed": false,
    "gradient": {
     "editing": false,
     "id": "9e195956-0e6f-4048-b390-5edfec46fe76",
     "kernelId": "9582e023-23d2-45d8-8cd8-b4f5ca9cf1f6",
     "source_hidden": false
    }
   },
   "outputs": [],
   "source": [
    "#find most common initial bigrams to feed into the english prefixes\n",
    "import pandas as pd\n",
    "# df2 = pd.read_csv('eng-fra2.txt', '\\t')\n",
    "lst = []\n",
    "for i in df2['Go.']:\n",
    "    lst.append(\" \".join(i.split(' ')[:2]))\n",
    "df2['commons english'] = lst"
   ]
  },
  {
   "cell_type": "code",
   "execution_count": null,
   "id": "8b9f671b-6fbd-4bd4-b19c-b2e2643193d4",
   "metadata": {
    "collapsed": false,
    "gradient": {
     "editing": false,
     "id": "8b9f671b-6fbd-4bd4-b19c-b2e2643193d4",
     "kernelId": "9582e023-23d2-45d8-8cd8-b4f5ca9cf1f6",
     "source_hidden": false
    }
   },
   "outputs": [
    {
     "data": {
      "text/plain": [
       "Index(['I don't', 'Do you', 'I want', 'Are you', 'I have', 'I think',\n",
       "       'I can't', 'I was', 'He is', 'I'm not', 'This is', 'I just', 'I didn't',\n",
       "       'I am', 'I thought', 'I know', 'Tom is', 'I had', 'Did you', 'Have you',\n",
       "       'Can you', 'He was', 'You don't', 'I'd like', 'It was', 'You should',\n",
       "       'Would you', 'I like', 'It is', 'She is', 'You can't', 'He has',\n",
       "       'What do', 'If you', 'I need', 'No one', 'You are', 'You have',\n",
       "       'I feel', 'I really', 'Why don't', 'I hope', 'I will', 'We have',\n",
       "       'You're not', 'You're very', 'She was', 'I love', 'You must', 'I can'],\n",
       "      dtype='object')"
      ]
     },
     "execution_count": 15,
     "metadata": {},
     "output_type": "execute_result"
    }
   ],
   "source": [
    "df2['commons english'].value_counts()[:50].index"
   ]
  },
  {
   "cell_type": "code",
   "execution_count": null,
   "id": "8608ecde-a3e2-4738-92c6-35507310c688",
   "metadata": {
    "collapsed": false,
    "gradient": {
     "editing": false,
     "id": "8608ecde-a3e2-4738-92c6-35507310c688",
     "kernelId": "9582e023-23d2-45d8-8cd8-b4f5ca9cf1f6",
     "source_hidden": false
    }
   },
   "outputs": [],
   "source": []
  },
  {
   "cell_type": "code",
   "execution_count": null,
   "id": "d8bcb4ab-7660-4f34-9c08-56f661f8579f",
   "metadata": {
    "collapsed": false,
    "gradient": {
     "editing": false,
     "id": "d8bcb4ab-7660-4f34-9c08-56f661f8579f",
     "kernelId": "9582e023-23d2-45d8-8cd8-b4f5ca9cf1f6",
     "source_hidden": false
    }
   },
   "outputs": [],
   "source": []
  }
 ],
 "metadata": {},
 "nbformat": 4,
 "nbformat_minor": 5
}
