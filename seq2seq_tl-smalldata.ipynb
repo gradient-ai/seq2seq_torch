{
 "cells": [
  {
   "cell_type": "code",
   "execution_count": null,
   "metadata": {
    "collapsed": false,
    "gradient": {
     "editing": false,
     "id": "79a60419-ab66-4b71-8ccd-8b88aef469c8",
     "kernelId": "7decba31-cf39-41d5-90ab-e5e78fe9399b"
    }
   },
   "outputs": [],
   "source": [
    "%matplotlib inline"
   ]
  },
  {
   "cell_type": "markdown",
   "metadata": {
    "gradient": {
     "editing": false,
     "id": "9e09b171-c40b-4136-a3c3-408375836759",
     "kernelId": "7decba31-cf39-41d5-90ab-e5e78fe9399b"
    }
   },
   "source": [
    "\n",
    "# NLP From Scratch: Translation with a Sequence to Sequence Network and Attention\n",
    "*******************************************************************************\n",
    "**Author**: `Sean Robertson <https://github.com/spro/practical-pytorch>`_\n",
    "\n",
    "This is the third and final tutorial on doing \"NLP From Scratch\", where we\n",
    "write our own classes and functions to preprocess the data to do our NLP\n",
    "modeling tasks. We hope after you complete this tutorial that you'll proceed to\n",
    "learn how `torchtext` can handle much of this preprocessing for you in the\n",
    "three tutorials immediately following this one.\n",
    "\n",
    "In this project we will be teaching a neural network to translate from\n",
    "French to English.\n",
    "\n",
    "::\n",
    "\n",
    "    [KEY: > input, = target, < output]\n",
    "\n",
    "    > il est en train de peindre un tableau .\n",
    "    = he is painting a picture .\n",
    "    < he is painting a picture .\n",
    "\n",
    "    > pourquoi ne pas essayer ce vin delicieux ?\n",
    "    = why not try that delicious wine ?\n",
    "    < why not try that delicious wine ?\n",
    "\n",
    "    > elle n est pas poete mais romanciere .\n",
    "    = she is not a poet but a novelist .\n",
    "    < she not not a poet but a novelist .\n",
    "\n",
    "    > vous etes trop maigre .\n",
    "    = you re too skinny .\n",
    "    < you re all alone .\n",
    "\n",
    "... to varying degrees of success.\n",
    "\n",
    "This is made possible by the simple but powerful idea of the `sequence\n",
    "to sequence network <https://arxiv.org/abs/1409.3215>`__, in which two\n",
    "recurrent neural networks work together to transform one sequence to\n",
    "another. An encoder network condenses an input sequence into a vector,\n",
    "and a decoder network unfolds that vector into a new sequence.\n",
    "\n",
    ".. figure:: /_static/img/seq-seq-images/seq2seq.png\n",
    "   :alt:\n",
    "\n",
    "To improve upon this model we'll use an `attention\n",
    "mechanism <https://arxiv.org/abs/1409.0473>`__, which lets the decoder\n",
    "learn to focus over a specific range of the input sequence.\n",
    "\n",
    "**Recommended Reading:**\n",
    "\n",
    "I assume you have at least installed PyTorch, know Python, and\n",
    "understand Tensors:\n",
    "\n",
    "-  https://pytorch.org/ For installation instructions\n",
    "-  :doc:`/beginner/deep_learning_60min_blitz` to get started with PyTorch in general\n",
    "-  :doc:`/beginner/pytorch_with_examples` for a wide and deep overview\n",
    "-  :doc:`/beginner/former_torchies_tutorial` if you are former Lua Torch user\n",
    "\n",
    "\n",
    "It would also be useful to know about Sequence to Sequence networks and\n",
    "how they work:\n",
    "\n",
    "-  `Learning Phrase Representations using RNN Encoder-Decoder for\n",
    "   Statistical Machine Translation <https://arxiv.org/abs/1406.1078>`__\n",
    "-  `Sequence to Sequence Learning with Neural\n",
    "   Networks <https://arxiv.org/abs/1409.3215>`__\n",
    "-  `Neural Machine Translation by Jointly Learning to Align and\n",
    "   Translate <https://arxiv.org/abs/1409.0473>`__\n",
    "-  `A Neural Conversational Model <https://arxiv.org/abs/1506.05869>`__\n",
    "\n",
    "You will also find the previous tutorials on\n",
    ":doc:`/intermediate/char_rnn_classification_tutorial`\n",
    "and :doc:`/intermediate/char_rnn_generation_tutorial`\n",
    "helpful as those concepts are very similar to the Encoder and Decoder\n",
    "models, respectively.\n",
    "\n",
    "**Requirements**\n",
    "\n"
   ]
  },
  {
   "cell_type": "code",
   "execution_count": null,
   "metadata": {
    "collapsed": false,
    "gradient": {
     "editing": false,
     "id": "44e60315-a29f-419b-aa50-4492ac07f786",
     "kernelId": "7decba31-cf39-41d5-90ab-e5e78fe9399b"
    }
   },
   "outputs": [],
   "source": [
    "from __future__ import unicode_literals, print_function, division\n",
    "from io import open\n",
    "import unicodedata\n",
    "import string\n",
    "import re\n",
    "import random\n",
    "\n",
    "import torch\n",
    "import torch.nn as nn\n",
    "from torch import optim\n",
    "import torch.nn.functional as F\n",
    "\n",
    "import torchtext\n",
    "from torchtext.data import get_tokenizer\n",
    "\n",
    "device = torch.device(\"cuda\" if torch.cuda.is_available() else \"cpu\")"
   ]
  },
  {
   "cell_type": "code",
   "execution_count": null,
   "metadata": {
    "collapsed": false,
    "gradient": {
     "editing": false,
     "id": "1fb15641-5269-4646-8783-501e7ab6c91d",
     "kernelId": "7decba31-cf39-41d5-90ab-e5e78fe9399b",
     "source_hidden": false
    }
   },
   "outputs": [],
   "source": [
    "# !wget https://download.pytorch.org/tutorial/data.zip\n",
    "# !unzip data.zip"
   ]
  },
  {
   "cell_type": "markdown",
   "metadata": {
    "gradient": {
     "editing": false,
     "id": "4611b9e1-5393-47f6-be86-b44f273feb02",
     "kernelId": "7decba31-cf39-41d5-90ab-e5e78fe9399b"
    }
   },
   "source": [
    "Loading data files\n",
    "==================\n",
    "\n",
    "The data for this project is a set of many thousands of English to\n",
    "French translation pairs.\n",
    "\n",
    "`This question on Open Data Stack\n",
    "Exchange <https://opendata.stackexchange.com/questions/3888/dataset-of-sentences-translated-into-many-languages>`__\n",
    "pointed me to the open translation site https://tatoeba.org/ which has\n",
    "downloads available at https://tatoeba.org/eng/downloads - and better\n",
    "yet, someone did the extra work of splitting language pairs into\n",
    "individual text files here: https://www.manythings.org/anki/\n",
    "\n",
    "The English to French pairs are too big to include in the repo, so\n",
    "download to ``data/eng-fra.txt`` before continuing. The file is a tab\n",
    "separated list of translation pairs:\n",
    "\n",
    "::\n",
    "\n",
    "    I am cold.    J'ai froid.\n",
    "\n",
    ".. Note::\n",
    "   Download the data from\n",
    "   `here <https://download.pytorch.org/tutorial/data.zip>`_\n",
    "   and extract it to the current directory.\n",
    "\n"
   ]
  },
  {
   "cell_type": "markdown",
   "metadata": {
    "gradient": {
     "editing": false,
     "id": "82c088cb-0408-423f-b395-fa56b0c91127",
     "kernelId": "7decba31-cf39-41d5-90ab-e5e78fe9399b"
    }
   },
   "source": [
    "Similar to the character encoding used in the character-level RNN\n",
    "tutorials, we will be representing each word in a language as a one-hot\n",
    "vector, or giant vector of zeros except for a single one (at the index\n",
    "of the word). Compared to the dozens of characters that might exist in a\n",
    "language, there are many many more words, so the encoding vector is much\n",
    "larger. We will however cheat a bit and trim the data to only use a few\n",
    "thousand words per language.\n",
    "\n",
    ".. figure:: /_static/img/seq-seq-images/word-encoding.png\n",
    "   :alt:\n",
    "\n",
    "\n",
    "\n"
   ]
  },
  {
   "cell_type": "markdown",
   "metadata": {
    "gradient": {
     "editing": false,
     "id": "2c0d4890-aef9-451f-8333-ed2f22879f73",
     "kernelId": "7decba31-cf39-41d5-90ab-e5e78fe9399b"
    }
   },
   "source": [
    "We'll need a unique index per word to use as the inputs and targets of\n",
    "the networks later. To keep track of all this we will use a helper class\n",
    "called ``Lang`` which has word → index (``word2index``) and index → word\n",
    "(``index2word``) dictionaries, as well as a count of each word\n",
    "``word2count`` which will be used to replace rare words later.\n",
    "\n",
    "\n"
   ]
  },
  {
   "cell_type": "code",
   "execution_count": null,
   "metadata": {
    "collapsed": false,
    "gradient": {
     "editing": false,
     "id": "3defd9c6-81b1-487a-a3cd-1c807080a8c7",
     "kernelId": "7decba31-cf39-41d5-90ab-e5e78fe9399b"
    }
   },
   "outputs": [],
   "source": [
    "SOS_token = 0\n",
    "EOS_token = 1\n",
    "\n",
    "\n",
    "class Lang:\n",
    "    def __init__(self, name):\n",
    "        self.name = name\n",
    "        self.word2index = {}\n",
    "        self.word2count = {}\n",
    "        self.index2word = {0: \"SOS\", 1: \"EOS\"}\n",
    "        self.n_words = 2  # Count SOS and EOS\n",
    "\n",
    "    def addSentence(self, sentence):\n",
    "        for word in sentence.split(' '):\n",
    "            self.addWord(word)\n",
    "\n",
    "    def addWord(self, word):\n",
    "        if word not in self.word2index:\n",
    "            self.word2index[word] = self.n_words\n",
    "            self.word2count[word] = 1\n",
    "            self.index2word[self.n_words] = word\n",
    "            self.n_words += 1\n",
    "        else:\n",
    "            self.word2count[word] += 1"
   ]
  },
  {
   "cell_type": "markdown",
   "metadata": {
    "gradient": {
     "editing": false,
     "id": "7b1829cd-a777-4485-bc30-54a378607d9e",
     "kernelId": "7decba31-cf39-41d5-90ab-e5e78fe9399b"
    }
   },
   "source": [
    "The files are all in Unicode, to simplify we will turn Unicode\n",
    "characters to ASCII, make everything lowercase, and trim most\n",
    "punctuation.\n",
    "\n",
    "\n"
   ]
  },
  {
   "cell_type": "code",
   "execution_count": null,
   "metadata": {
    "collapsed": false,
    "gradient": {
     "editing": false,
     "id": "e72d5c8f-66f4-47da-869a-d4590b58bb0e",
     "kernelId": "7decba31-cf39-41d5-90ab-e5e78fe9399b"
    }
   },
   "outputs": [],
   "source": [
    "# Turn a Unicode string to plain ASCII, thanks to\n",
    "# https://stackoverflow.com/a/518232/2809427\n",
    "def unicodeToAscii(s):\n",
    "    return ''.join(\n",
    "        c for c in unicodedata.normalize('NFD', s)\n",
    "        if unicodedata.category(c) != 'Mn'\n",
    "    )\n",
    "\n",
    "# Lowercase, trim, and remove non-letter characters\n",
    "\n",
    "\n",
    "def normalizeString(s):\n",
    "    s = unicodeToAscii(s.lower().strip())\n",
    "    s = re.sub(r\"([.!?])\", r\" \\1\", s)\n",
    "    s = re.sub(r\"[^a-zA-Z.!?]+\", r\" \", s)\n",
    "    return s"
   ]
  },
  {
   "cell_type": "markdown",
   "metadata": {
    "gradient": {
     "editing": false,
     "id": "7af31f55-dac1-4f24-b280-137a4d8f036f",
     "kernelId": "7decba31-cf39-41d5-90ab-e5e78fe9399b"
    }
   },
   "source": [
    "To read the data file we will split the file into lines, and then split\n",
    "lines into pairs. The files are all English → Other Language, so if we\n",
    "want to translate from Other Language → English I added the ``reverse``\n",
    "flag to reverse the pairs.\n",
    "\n",
    "\n"
   ]
  },
  {
   "cell_type": "code",
   "execution_count": null,
   "metadata": {
    "collapsed": false,
    "gradient": {
     "editing": false,
     "id": "24d7fe61-225b-49e1-b320-fa6da649d8e5",
     "kernelId": "7decba31-cf39-41d5-90ab-e5e78fe9399b"
    }
   },
   "outputs": [
    {
     "name": "stdout",
     "output_type": "stream",
     "text": [
      "Reading lines...\n"
     ]
    }
   ],
   "source": [
    "def readLangs(lang1, lang2, reverse=False):\n",
    "    print(\"Reading lines...\")\n",
    "\n",
    "    # Read the file and split into lines\n",
    "    lines = open('%s-%s2.txt' % (lang1, lang2), encoding='utf-8').\\\n",
    "        read().strip().split('\\n')\n",
    "    lines = lines[1:]\n",
    "    # return lines\n",
    "    # Split every line into pairs and normalize\n",
    "    pairs = [[normalizeString(s) for s in l.split('\\t')] for l in lines]\n",
    "\n",
    "\n",
    "    # Reverse pairs, make Lang instances\n",
    "    if reverse:\n",
    "        pairs = [list(reversed(p)) for p in pairs]\n",
    "        input_lang = Lang(lang2)\n",
    "        output_lang = Lang(lang1)\n",
    "    else:\n",
    "        input_lang = Lang(lang1)\n",
    "        output_lang = Lang(lang2)\n",
    "\n",
    "    return input_lang, output_lang, pairs\n",
    "\n",
    "input_lang, output_lang, pairs = readLangs('eng', 'fra')\n",
    "# lines = readLangs('eng', 'fra')\n",
    "# lines[1]"
   ]
  },
  {
   "cell_type": "markdown",
   "metadata": {
    "gradient": {
     "editing": false,
     "id": "49ae3fa1-7941-43bc-b570-0ad1325db8a1",
     "kernelId": "7decba31-cf39-41d5-90ab-e5e78fe9399b"
    }
   },
   "source": [
    "Since there are a *lot* of example sentences and we want to train\n",
    "something quickly, we'll trim the data set to only relatively short and\n",
    "simple sentences. Here the maximum length is 10 words (that includes\n",
    "ending punctuation) and we're filtering to sentences that translate to\n",
    "the form \"I am\" or \"He is\" etc. (accounting for apostrophes replaced\n",
    "earlier).\n",
    "\n",
    "\n"
   ]
  },
  {
   "cell_type": "code",
   "execution_count": null,
   "metadata": {
    "collapsed": false,
    "gradient": {
     "editing": false,
     "id": "b54af4f0-53bf-4512-a019-d0bcaf2c11cc",
     "kernelId": "7decba31-cf39-41d5-90ab-e5e78fe9399b",
     "source_hidden": false
    }
   },
   "outputs": [
    {
     "data": {
      "text/plain": [
       "[['ils sont tres fiers d etre etudiants de ce college .',\n",
       "  'they are very proud of being students of that college .'],\n",
       " ['nous sommes pleinement conscients de l importance de la situation .',\n",
       "  'we are fully aware of the importance of the situation .'],\n",
       " ['il est bon pour resoudre des problemes mathematiques complexes .',\n",
       "  'he is good at solving complicated mathematical problems .'],\n",
       " ['j espere une reponse favorable de votre part .',\n",
       "  'i am looking forward to receiving your favorable answer .'],\n",
       " ['demain nous allons avoir une interrogation en anglais .',\n",
       "  'we are going to have an examination in english tomorrow .'],\n",
       " ['je me prepare a visiter votre pays cet hiver .',\n",
       "  'i m looking forward to visiting your country this winter .'],\n",
       " ['tu es probablement trop jeune pour comprendre ce qui arrive .',\n",
       "  'you re probably too young to understand what s happening .'],\n",
       " ['vous etes probablement trop jeune pour comprendre ce qui arrive .',\n",
       "  'you re probably too young to understand what s happening .'],\n",
       " ['il est representant accredite du gouvernement canadien .',\n",
       "  'he s an accredited representative of the canadian government .'],\n",
       " ['c est un representant accredite du gouvernement canadien .',\n",
       "  'he s an accredited representative of the canadian government .']]"
      ]
     },
     "execution_count": 30,
     "metadata": {},
     "output_type": "execute_result"
    }
   ],
   "source": [
    "pairs[-10:]\n"
   ]
  },
  {
   "cell_type": "code",
   "execution_count": null,
   "metadata": {
    "collapsed": false,
    "gradient": {
     "editing": false,
     "id": "d0dc038f-7b45-40d5-abc1-cd1e6b671d2a",
     "kernelId": "7decba31-cf39-41d5-90ab-e5e78fe9399b"
    }
   },
   "outputs": [],
   "source": [
    "MAX_LENGTH = 12\n",
    "\n",
    "eng_prefixes = (\n",
    "    \"i am \", \"i m \",\n",
    "    \"he is\", \"he s \",\n",
    "    \"she is\", \"she s \",\n",
    "    \"you are\", \"you re \",\n",
    "    \"we are\", \"we re \",\n",
    "    \"they are\", \"they re \",'I don t', 'Do you', 'I want', 'Are you', 'I have', 'I think',\n",
    "       'I can t', 'I was', 'He is', 'I m not', 'This is', 'I just', 'I didn t',\n",
    "       'I am', 'I thought', 'I know', 'Tom is', 'I had', 'Did you', 'Have you',\n",
    "       'Can you', 'He was', 'You don t', 'I d like', 'It was', 'You should',\n",
    "       'Would you', 'I like', 'It is', 'She is', 'You can t', 'He has',\n",
    "       'What do', 'If you', 'I need', 'No one', 'You are', 'You have',\n",
    "       'I feel', 'I really', 'Why don t', 'I hope', 'I will', 'We have',\n",
    "       \"You re not\", \"You re very\", 'She was', 'I love', 'You must', 'I can'\n",
    ")\n",
    "\n",
    "\n",
    "def filterPair(p):\n",
    "    return len(p[0].split(' ')) < MAX_LENGTH and \\\n",
    "        len(p[1].split(' ')) < MAX_LENGTH and \\\n",
    "        p[1].startswith(eng_prefixes)\n",
    "\n",
    "\n",
    "def filterPairs(pairs):\n",
    "    return [pair for pair in pairs if filterPair(pair)]"
   ]
  },
  {
   "cell_type": "markdown",
   "metadata": {
    "gradient": {
     "editing": false,
     "id": "d25c3853-2ea9-4d0a-af87-6c34c6ad4b6a",
     "kernelId": "7decba31-cf39-41d5-90ab-e5e78fe9399b"
    }
   },
   "source": [
    "The full process for preparing the data is:\n",
    "\n",
    "-  Read text file and split into lines, split lines into pairs\n",
    "-  Normalize text, filter by length and content\n",
    "-  Make word lists from sentences in pairs\n",
    "\n",
    "\n"
   ]
  },
  {
   "cell_type": "code",
   "execution_count": null,
   "metadata": {
    "collapsed": false,
    "gradient": {
     "editing": false,
     "id": "cbb7e9c7-4827-4e16-9b87-9ca3921d76a8",
     "kernelId": "7decba31-cf39-41d5-90ab-e5e78fe9399b"
    }
   },
   "outputs": [
    {
     "name": "stdout",
     "output_type": "stream",
     "text": [
      "Reading lines...\n"
     ]
    },
    {
     "name": "stdout",
     "output_type": "stream",
     "text": [
      "Read 135841 sentence pairs\n",
      "Trimmed to 12060 sentence pairs\n",
      "Counting words...\n"
     ]
    },
    {
     "name": "stdout",
     "output_type": "stream",
     "text": [
      "Counted words:\n",
      "fra 4776\n",
      "eng 3112\n",
      "['je suis tres seul ici .', 'i m very lonely here .']\n"
     ]
    }
   ],
   "source": [
    "def prepareData(lang1, lang2,reverse = False):\n",
    "    input_lang, output_lang, pairs = readLangs(lang1, lang2, reverse)\n",
    "    print(\"Read %s sentence pairs\" % len(pairs))\n",
    "    pairs = filterPairs(pairs)\n",
    "    print(\"Trimmed to %s sentence pairs\" % len(pairs))\n",
    "    print(\"Counting words...\")\n",
    "    for pair in pairs:\n",
    "        input_lang.addSentence(pair[0])\n",
    "        output_lang.addSentence(pair[1])\n",
    "    print(\"Counted words:\")\n",
    "    print(input_lang.name, input_lang.n_words)\n",
    "    print(output_lang.name, output_lang.n_words)\n",
    "    return input_lang, output_lang, pairs\n",
    "\n",
    "\n",
    "input_lang, output_lang, pairs = prepareData('eng', 'fra', True)\n",
    "print(random.choice(pairs))"
   ]
  },
  {
   "cell_type": "code",
   "execution_count": null,
   "metadata": {
    "collapsed": false,
    "gradient": {
     "editing": false,
     "execution_count": 31,
     "id": "5ba0462d-2bda-4936-8f78-ac48cec48e04",
     "kernelId": "7decba31-cf39-41d5-90ab-e5e78fe9399b",
     "source_hidden": false
    }
   },
   "outputs": [
    {
     "data": {
      "text/plain": [
       "['j ai ans .', 'i m .']"
      ]
     },
     "execution_count": 31,
     "metadata": {},
     "output_type": "execute_result"
    }
   ],
   "source": [
    "pairs[0]"
   ]
  },
  {
   "cell_type": "markdown",
   "metadata": {
    "gradient": {
     "editing": false,
     "id": "36decef8-d6df-47ac-b36c-662d741c720a",
     "kernelId": "7decba31-cf39-41d5-90ab-e5e78fe9399b"
    }
   },
   "source": [
    "The Seq2Seq Model\n",
    "=================\n",
    "\n",
    "A Recurrent Neural Network, or RNN, is a network that operates on a\n",
    "sequence and uses its own output as input for subsequent steps.\n",
    "\n",
    "A `Sequence to Sequence network <https://arxiv.org/abs/1409.3215>`__, or\n",
    "seq2seq network, or `Encoder Decoder\n",
    "network <https://arxiv.org/pdf/1406.1078v3.pdf>`__, is a model\n",
    "consisting of two RNNs called the encoder and decoder. The encoder reads\n",
    "an input sequence and outputs a single vector, and the decoder reads\n",
    "that vector to produce an output sequence.\n",
    "\n",
    ".. figure:: /_static/img/seq-seq-images/seq2seq.png\n",
    "   :alt:\n",
    "\n",
    "Unlike sequence prediction with a single RNN, where every input\n",
    "corresponds to an output, the seq2seq model frees us from sequence\n",
    "length and order, which makes it ideal for translation between two\n",
    "languages.\n",
    "\n",
    "Consider the sentence \"Je ne suis pas le chat noir\" → \"I am not the\n",
    "black cat\". Most of the words in the input sentence have a direct\n",
    "translation in the output sentence, but are in slightly different\n",
    "orders, e.g. \"chat noir\" and \"black cat\". Because of the \"ne/pas\"\n",
    "construction there is also one more word in the input sentence. It would\n",
    "be difficult to produce a correct translation directly from the sequence\n",
    "of input words.\n",
    "\n",
    "With a seq2seq model the encoder creates a single vector which, in the\n",
    "ideal case, encodes the \"meaning\" of the input sequence into a single\n",
    "vector — a single point in some N dimensional space of sentences.\n",
    "\n",
    "\n"
   ]
  },
  {
   "cell_type": "markdown",
   "metadata": {
    "gradient": {
     "editing": false,
     "id": "47722a45-820c-472e-85d7-ba6903e49443",
     "kernelId": "7decba31-cf39-41d5-90ab-e5e78fe9399b"
    }
   },
   "source": [
    "The Encoder\n",
    "-----------\n",
    "\n",
    "The encoder of a seq2seq network is a RNN that outputs some value for\n",
    "every word from the input sentence. For every input word the encoder\n",
    "outputs a vector and a hidden state, and uses the hidden state for the\n",
    "next input word.\n",
    "\n",
    ".. figure:: /_static/img/seq-seq-images/encoder-network.png\n",
    "   :alt:\n",
    "\n",
    "\n",
    "\n"
   ]
  },
  {
   "cell_type": "code",
   "execution_count": null,
   "metadata": {
    "collapsed": false,
    "gradient": {
     "editing": false,
     "id": "cf3a44df-148f-4015-8b8a-2f5f4ff6c08a",
     "kernelId": "7decba31-cf39-41d5-90ab-e5e78fe9399b"
    }
   },
   "outputs": [],
   "source": [
    "class EncoderRNN(nn.Module):\n",
    "    def __init__(self, input_size, hidden_size):\n",
    "        super(EncoderRNN, self).__init__()\n",
    "        self.hidden_size = hidden_size\n",
    "\n",
    "        self.embedding = nn.Embedding(input_size, hidden_size)\n",
    "        self.gru = nn.GRU(hidden_size, hidden_size)\n",
    "\n",
    "    def forward(self, input, hidden):\n",
    "        embedded = self.embedding(input).view(1, 1, -1)\n",
    "        output = embedded\n",
    "        output, hidden = self.gru(output, hidden)\n",
    "        return output, hidden\n",
    "\n",
    "    def initHidden(self):\n",
    "        return torch.zeros(1, 1, self.hidden_size, device=device)"
   ]
  },
  {
   "cell_type": "markdown",
   "metadata": {
    "gradient": {
     "editing": false,
     "id": "e8378d09-18d0-4aa9-8d97-57453f285491",
     "kernelId": "7decba31-cf39-41d5-90ab-e5e78fe9399b"
    }
   },
   "source": [
    "The Decoder\n",
    "-----------\n",
    "\n",
    "The decoder is another RNN that takes the encoder output vector(s) and\n",
    "outputs a sequence of words to create the translation.\n",
    "\n",
    "\n"
   ]
  },
  {
   "cell_type": "markdown",
   "metadata": {
    "gradient": {
     "editing": false,
     "id": "58e7e782-cdb0-4370-b567-3914f77715c0",
     "kernelId": "7decba31-cf39-41d5-90ab-e5e78fe9399b"
    }
   },
   "source": [
    "Simple Decoder\n",
    "^^^^^^^^^^^^^^\n",
    "\n",
    "In the simplest seq2seq decoder we use only last output of the encoder.\n",
    "This last output is sometimes called the *context vector* as it encodes\n",
    "context from the entire sequence. This context vector is used as the\n",
    "initial hidden state of the decoder.\n",
    "\n",
    "At every step of decoding, the decoder is given an input token and\n",
    "hidden state. The initial input token is the start-of-string ``<SOS>``\n",
    "token, and the first hidden state is the context vector (the encoder's\n",
    "last hidden state).\n",
    "\n",
    ".. figure:: /_static/img/seq-seq-images/decoder-network.png\n",
    "   :alt:\n",
    "\n",
    "\n",
    "\n"
   ]
  },
  {
   "cell_type": "code",
   "execution_count": null,
   "metadata": {
    "collapsed": false,
    "gradient": {
     "editing": false,
     "id": "913b1db9-bcbc-4564-b2c2-fff2ffbd4a0b",
     "kernelId": "7decba31-cf39-41d5-90ab-e5e78fe9399b"
    }
   },
   "outputs": [],
   "source": [
    "class DecoderRNN(nn.Module):\n",
    "    def __init__(self, hidden_size, output_size):\n",
    "        super(DecoderRNN, self).__init__()\n",
    "        self.hidden_size = hidden_size\n",
    "\n",
    "        self.embedding = nn.Embedding(output_size, hidden_size)\n",
    "        self.gru = nn.GRU(hidden_size, hidden_size)\n",
    "        self.out = nn.Linear(hidden_size, output_size)\n",
    "        self.softmax = nn.LogSoftmax(dim=1)\n",
    "\n",
    "    def forward(self, input, hidden):\n",
    "        output = self.embedding(input).view(1, 1, -1)\n",
    "        output = F.relu(output)\n",
    "        output, hidden = self.gru(output, hidden)\n",
    "        output = self.softmax(self.out(output[0]))\n",
    "        return output, hidden\n",
    "\n",
    "    def initHidden(self):\n",
    "        return torch.zeros(1, 1, self.hidden_size, device=device)"
   ]
  },
  {
   "cell_type": "markdown",
   "metadata": {
    "gradient": {
     "editing": false,
     "id": "9fc9da69-42a2-42b6-8ba4-c05e4e9860de",
     "kernelId": "7decba31-cf39-41d5-90ab-e5e78fe9399b"
    }
   },
   "source": [
    "I encourage you to train and observe the results of this model, but to\n",
    "save space we'll be going straight for the gold and introducing the\n",
    "Attention Mechanism.\n",
    "\n",
    "\n"
   ]
  },
  {
   "cell_type": "markdown",
   "metadata": {
    "gradient": {
     "editing": false,
     "id": "560a5011-121f-4aff-9acc-e3ddf615a4b4",
     "kernelId": "7decba31-cf39-41d5-90ab-e5e78fe9399b"
    }
   },
   "source": [
    "Attention Decoder\n",
    "^^^^^^^^^^^^^^^^^\n",
    "\n",
    "If only the context vector is passed between the encoder and decoder,\n",
    "that single vector carries the burden of encoding the entire sentence.\n",
    "\n",
    "Attention allows the decoder network to \"focus\" on a different part of\n",
    "the encoder's outputs for every step of the decoder's own outputs. First\n",
    "we calculate a set of *attention weights*. These will be multiplied by\n",
    "the encoder output vectors to create a weighted combination. The result\n",
    "(called ``attn_applied`` in the code) should contain information about\n",
    "that specific part of the input sequence, and thus help the decoder\n",
    "choose the right output words.\n",
    "\n",
    ".. figure:: https://i.imgur.com/1152PYf.png\n",
    "   :alt:\n",
    "\n",
    "Calculating the attention weights is done with another feed-forward\n",
    "layer ``attn``, using the decoder's input and hidden state as inputs.\n",
    "Because there are sentences of all sizes in the training data, to\n",
    "actually create and train this layer we have to choose a maximum\n",
    "sentence length (input length, for encoder outputs) that it can apply\n",
    "to. Sentences of the maximum length will use all the attention weights,\n",
    "while shorter sentences will only use the first few.\n",
    "\n",
    ".. figure:: /_static/img/seq-seq-images/attention-decoder-network.png\n",
    "   :alt:\n",
    "\n",
    "\n",
    "\n"
   ]
  },
  {
   "cell_type": "code",
   "execution_count": null,
   "metadata": {
    "collapsed": false,
    "gradient": {
     "editing": false,
     "id": "8e06a413-5947-4d99-a084-5090d02b601b",
     "kernelId": "7decba31-cf39-41d5-90ab-e5e78fe9399b"
    }
   },
   "outputs": [],
   "source": [
    "class AttnDecoderRNN(nn.Module):\n",
    "    def __init__(self, hidden_size, output_size, dropout_p=0.1, max_length=MAX_LENGTH):\n",
    "        super(AttnDecoderRNN, self).__init__()\n",
    "        self.hidden_size = hidden_size\n",
    "        self.output_size = output_size\n",
    "        self.dropout_p = dropout_p\n",
    "        self.max_length = max_length\n",
    "\n",
    "        self.embedding = nn.Embedding(self.output_size, self.hidden_size)\n",
    "        self.attn = nn.Linear(self.hidden_size * 2, self.max_length)\n",
    "        self.attn_combine = nn.Linear(self.hidden_size * 2, self.hidden_size)\n",
    "        self.dropout = nn.Dropout(self.dropout_p)\n",
    "        self.gru = nn.GRU(self.hidden_size, self.hidden_size)\n",
    "        self.out = nn.Linear(self.hidden_size, self.output_size)\n",
    "\n",
    "    def forward(self, input, hidden, encoder_outputs):\n",
    "        embedded = self.embedding(input).view(1, 1, -1)\n",
    "        embedded = self.dropout(embedded)\n",
    "\n",
    "        attn_weights = F.softmax(\n",
    "            self.attn(torch.cat((embedded[0], hidden[0]), 1)), dim=1)\n",
    "        attn_applied = torch.bmm(attn_weights.unsqueeze(0),\n",
    "                                 encoder_outputs.unsqueeze(0))\n",
    "\n",
    "        output = torch.cat((embedded[0], attn_applied[0]), 1)\n",
    "        output = self.attn_combine(output).unsqueeze(0)\n",
    "\n",
    "        output = F.relu(output)\n",
    "        output, hidden = self.gru(output, hidden)\n",
    "\n",
    "        output = F.log_softmax(self.out(output[0]), dim=1)\n",
    "        return output, hidden, attn_weights\n",
    "\n",
    "    def initHidden(self):\n",
    "        return torch.zeros(1, 1, self.hidden_size, device=device)"
   ]
  },
  {
   "cell_type": "markdown",
   "metadata": {
    "gradient": {
     "editing": false,
     "id": "0c218b51-596a-499e-ab4a-4f08d9055d5d",
     "kernelId": "7decba31-cf39-41d5-90ab-e5e78fe9399b"
    }
   },
   "source": [
    "<div class=\"alert alert-info\"><h4>Note</h4><p>There are other forms of attention that work around the length\n",
    "  limitation by using a relative position approach. Read about \"local\n",
    "  attention\" in `Effective Approaches to Attention-based Neural Machine\n",
    "  Translation <https://arxiv.org/abs/1508.04025>`__.</p></div>\n",
    "\n",
    "Training\n",
    "========\n",
    "\n",
    "Preparing Training Data\n",
    "-----------------------\n",
    "\n",
    "To train, for each pair we will need an input tensor (indexes of the\n",
    "words in the input sentence) and target tensor (indexes of the words in\n",
    "the target sentence). While creating these vectors we will append the\n",
    "EOS token to both sequences.\n",
    "\n",
    "\n"
   ]
  },
  {
   "cell_type": "code",
   "execution_count": null,
   "metadata": {
    "collapsed": false,
    "gradient": {
     "editing": false,
     "id": "e10c9428-3504-4e04-8a62-d730aa64947c",
     "kernelId": "7decba31-cf39-41d5-90ab-e5e78fe9399b"
    }
   },
   "outputs": [],
   "source": [
    "def indexesFromSentence(lang, sentence):\n",
    "    return [lang.word2index[word] for word in sentence.split(' ')]\n",
    "\n",
    "\n",
    "def tensorFromSentence(lang, sentence):\n",
    "    indexes = indexesFromSentence(lang, sentence)\n",
    "    indexes.append(EOS_token)\n",
    "    return torch.tensor(indexes, dtype=torch.long, device=device).view(-1, 1)\n",
    "\n",
    "\n",
    "def tensorsFromPair(pair):\n",
    "    input_tensor = tensorFromSentence(input_lang, pair[0])\n",
    "    target_tensor = tensorFromSentence(output_lang, pair[1])\n",
    "    return (input_tensor, target_tensor)"
   ]
  },
  {
   "cell_type": "markdown",
   "metadata": {
    "gradient": {
     "editing": false,
     "id": "0935614e-8935-417f-8eae-5ebb74ab984c",
     "kernelId": "7decba31-cf39-41d5-90ab-e5e78fe9399b"
    }
   },
   "source": [
    "Training the Model\n",
    "------------------\n",
    "\n",
    "To train we run the input sentence through the encoder, and keep track\n",
    "of every output and the latest hidden state. Then the decoder is given\n",
    "the ``<SOS>`` token as its first input, and the last hidden state of the\n",
    "encoder as its first hidden state.\n",
    "\n",
    "\"Teacher forcing\" is the concept of using the real target outputs as\n",
    "each next input, instead of using the decoder's guess as the next input.\n",
    "Using teacher forcing causes it to converge faster but `when the trained\n",
    "network is exploited, it may exhibit\n",
    "instability <http://citeseerx.ist.psu.edu/viewdoc/download?doi=10.1.1.378.4095&rep=rep1&type=pdf>`__.\n",
    "\n",
    "You can observe outputs of teacher-forced networks that read with\n",
    "coherent grammar but wander far from the correct translation -\n",
    "intuitively it has learned to represent the output grammar and can \"pick\n",
    "up\" the meaning once the teacher tells it the first few words, but it\n",
    "has not properly learned how to create the sentence from the translation\n",
    "in the first place.\n",
    "\n",
    "Because of the freedom PyTorch's autograd gives us, we can randomly\n",
    "choose to use teacher forcing or not with a simple if statement. Turn\n",
    "``teacher_forcing_ratio`` up to use more of it.\n",
    "\n",
    "\n"
   ]
  },
  {
   "cell_type": "code",
   "execution_count": null,
   "metadata": {
    "collapsed": false,
    "gradient": {
     "editing": false,
     "id": "fb37893c-c90a-4986-9600-de47948308ee",
     "kernelId": "7decba31-cf39-41d5-90ab-e5e78fe9399b"
    }
   },
   "outputs": [],
   "source": [
    "teacher_forcing_ratio = 0.5\n",
    "\n",
    "\n",
    "def train(input_tensor, target_tensor, encoder, decoder, encoder_optimizer, decoder_optimizer, criterion, max_length=MAX_LENGTH):\n",
    "    encoder_hidden = encoder.initHidden()\n",
    "\n",
    "    encoder_optimizer.zero_grad()\n",
    "    decoder_optimizer.zero_grad()\n",
    "\n",
    "    input_length = input_tensor.size(0)\n",
    "    target_length = target_tensor.size(0)\n",
    "\n",
    "    encoder_outputs = torch.zeros(max_length, encoder.hidden_size, device=device)\n",
    "\n",
    "    loss = 0\n",
    "\n",
    "    for ei in range(input_length):\n",
    "        encoder_output, encoder_hidden = encoder(\n",
    "            input_tensor[ei], encoder_hidden)\n",
    "        encoder_outputs[ei] = encoder_output[0, 0]\n",
    "\n",
    "    decoder_input = torch.tensor([[SOS_token]], device=device)\n",
    "\n",
    "    decoder_hidden = encoder_hidden\n",
    "\n",
    "    use_teacher_forcing = True if random.random() < teacher_forcing_ratio else False\n",
    "\n",
    "    if use_teacher_forcing:\n",
    "        # Teacher forcing: Feed the target as the next input\n",
    "        for di in range(target_length):\n",
    "            decoder_output, decoder_hidden, decoder_attention = decoder(\n",
    "                decoder_input, decoder_hidden, encoder_outputs)\n",
    "            loss += criterion(decoder_output, target_tensor[di])\n",
    "            decoder_input = target_tensor[di]  # Teacher forcing\n",
    "\n",
    "    else:\n",
    "        # Without teacher forcing: use its own predictions as the next input\n",
    "        for di in range(target_length):\n",
    "            decoder_output, decoder_hidden, decoder_attention = decoder(\n",
    "                decoder_input, decoder_hidden, encoder_outputs)\n",
    "            topv, topi = decoder_output.topk(1)\n",
    "            decoder_input = topi.squeeze().detach()  # detach from history as input\n",
    "\n",
    "            loss += criterion(decoder_output, target_tensor[di])\n",
    "            if decoder_input.item() == EOS_token:\n",
    "                break\n",
    "\n",
    "    loss.backward()\n",
    "\n",
    "    encoder_optimizer.step()\n",
    "    decoder_optimizer.step()\n",
    "\n",
    "    return loss.item() / target_length"
   ]
  },
  {
   "cell_type": "markdown",
   "metadata": {
    "gradient": {
     "editing": false,
     "id": "eeada14e-9f92-470d-88a9-1228cd9ac314",
     "kernelId": "7decba31-cf39-41d5-90ab-e5e78fe9399b"
    }
   },
   "source": [
    "This is a helper function to print time elapsed and estimated time\n",
    "remaining given the current time and progress %.\n",
    "\n",
    "\n"
   ]
  },
  {
   "cell_type": "code",
   "execution_count": null,
   "metadata": {
    "collapsed": false,
    "gradient": {
     "editing": false,
     "id": "a493bcd5-373f-488b-8d77-ead0f59523f0",
     "kernelId": "7decba31-cf39-41d5-90ab-e5e78fe9399b"
    }
   },
   "outputs": [],
   "source": [
    "import time\n",
    "import math\n",
    "\n",
    "\n",
    "def asMinutes(s):\n",
    "    m = math.floor(s / 60)\n",
    "    s -= m * 60\n",
    "    return '%dm %ds' % (m, s)\n",
    "\n",
    "\n",
    "def timeSince(since, percent):\n",
    "    now = time.time()\n",
    "    s = now - since\n",
    "    es = s / (percent)\n",
    "    rs = es - s\n",
    "    return '%s (- %s)' % (asMinutes(s), asMinutes(rs))"
   ]
  },
  {
   "cell_type": "markdown",
   "metadata": {
    "gradient": {
     "editing": false,
     "id": "f244b9be-07bf-404e-b96c-30f17a2713a5",
     "kernelId": "7decba31-cf39-41d5-90ab-e5e78fe9399b"
    }
   },
   "source": [
    "The whole training process looks like this:\n",
    "\n",
    "-  Start a timer\n",
    "-  Initialize optimizers and criterion\n",
    "-  Create set of training pairs\n",
    "-  Start empty losses array for plotting\n",
    "\n",
    "Then we call ``train`` many times and occasionally print the progress (%\n",
    "of examples, time so far, estimated time) and average loss.\n",
    "\n",
    "\n"
   ]
  },
  {
   "cell_type": "code",
   "execution_count": null,
   "metadata": {
    "collapsed": false,
    "gradient": {
     "editing": true,
     "id": "de82f077-4939-4c29-bff9-8843ec09bde9",
     "kernelId": "7decba31-cf39-41d5-90ab-e5e78fe9399b"
    }
   },
   "outputs": [],
   "source": [
    "def trainIters(encoder, decoder, n_iters, print_every=1000, plot_every=100):\n",
    "    start = time.time()\n",
    "    plot_losses = []\n",
    "    print_loss_total = 0  # Reset every print_every\n",
    "    plot_loss_total = 0  # Reset every plot_every\n",
    "\n",
    "    encoder_optimizer = optim.Adagrad(encoder.parameters())\n",
    "    decoder_optimizer = optim.Adagrad(decoder.parameters())\n",
    "    training_pairs = [tensorsFromPair(random.choice(pairs))\n",
    "                      for i in range(n_iters)]\n",
    "    criterion = nn.CrossEntropyLoss()\n",
    "\n",
    "    for iter in range(1, n_iters + 1):\n",
    "        training_pair = training_pairs[iter - 1]\n",
    "        input_tensor = training_pair[0]\n",
    "        target_tensor = training_pair[1]\n",
    "\n",
    "        loss = train(input_tensor, target_tensor, encoder,\n",
    "                     decoder, encoder_optimizer, decoder_optimizer, criterion)\n",
    "        print_loss_total += loss\n",
    "        plot_loss_total += loss\n",
    "\n",
    "        if iter % print_every == 0:\n",
    "            print_loss_avg = print_loss_total / print_every\n",
    "            print_loss_total = 0\n",
    "            print('%s (%d %d%%) %.4f' % (timeSince(start, iter / n_iters),\n",
    "                                         iter, iter / n_iters * 100, print_loss_avg))\n",
    "\n",
    "        if iter % plot_every == 0:\n",
    "            plot_loss_avg = plot_loss_total / plot_every\n",
    "            plot_losses.append(plot_loss_avg)\n",
    "            plot_loss_total = 0\n",
    "\n",
    "    showPlot(plot_losses)"
   ]
  },
  {
   "cell_type": "markdown",
   "metadata": {
    "gradient": {
     "editing": false,
     "id": "a4ad2c76-eb21-4d9a-8357-3822c627757d",
     "kernelId": "7decba31-cf39-41d5-90ab-e5e78fe9399b"
    }
   },
   "source": [
    "Plotting results\n",
    "----------------\n",
    "\n",
    "Plotting is done with matplotlib, using the array of loss values\n",
    "``plot_losses`` saved while training.\n",
    "\n",
    "\n"
   ]
  },
  {
   "cell_type": "code",
   "execution_count": null,
   "metadata": {
    "collapsed": false,
    "gradient": {
     "editing": false,
     "id": "577b81ce-da2a-4e7e-b728-d14dae9f4e2e",
     "kernelId": "7decba31-cf39-41d5-90ab-e5e78fe9399b"
    }
   },
   "outputs": [],
   "source": [
    "import matplotlib.pyplot as plt\n",
    "plt.switch_backend('agg')\n",
    "import matplotlib.ticker as ticker\n",
    "import numpy as np\n",
    "\n",
    "\n",
    "def showPlot(points):\n",
    "    plt.figure()\n",
    "    fig, ax = plt.subplots()\n",
    "    # this locator puts ticks at regular intervals\n",
    "    loc = ticker.MultipleLocator(base=0.2)\n",
    "    ax.yaxis.set_major_locator(loc)\n",
    "    plt.plot(points)"
   ]
  },
  {
   "cell_type": "markdown",
   "metadata": {
    "gradient": {
     "editing": false,
     "id": "1b08cf38-7472-4ea9-92de-af9a2370c02f",
     "kernelId": "7decba31-cf39-41d5-90ab-e5e78fe9399b"
    }
   },
   "source": [
    "Evaluation\n",
    "==========\n",
    "\n",
    "Evaluation is mostly the same as training, but there are no targets so\n",
    "we simply feed the decoder's predictions back to itself for each step.\n",
    "Every time it predicts a word we add it to the output string, and if it\n",
    "predicts the EOS token we stop there. We also store the decoder's\n",
    "attention outputs for display later.\n",
    "\n",
    "\n"
   ]
  },
  {
   "cell_type": "code",
   "execution_count": null,
   "metadata": {
    "collapsed": false,
    "gradient": {
     "editing": false,
     "id": "1751f05e-8c42-4ed8-807a-f7e8f03589c7",
     "kernelId": "7decba31-cf39-41d5-90ab-e5e78fe9399b"
    }
   },
   "outputs": [],
   "source": [
    "def evaluate(encoder, decoder, sentence, max_length=MAX_LENGTH):\n",
    "    with torch.no_grad():\n",
    "        input_tensor = tensorFromSentence(input_lang, sentence)\n",
    "        input_length = input_tensor.size()[0]\n",
    "        encoder_hidden = encoder.initHidden()\n",
    "\n",
    "        encoder_outputs = torch.zeros(max_length, encoder.hidden_size, device=device)\n",
    "\n",
    "        for ei in range(input_length):\n",
    "            encoder_output, encoder_hidden = encoder(input_tensor[ei],\n",
    "                                                     encoder_hidden)\n",
    "            encoder_outputs[ei] += encoder_output[0, 0]\n",
    "\n",
    "        decoder_input = torch.tensor([[SOS_token]], device=device)  # SOS\n",
    "\n",
    "        decoder_hidden = encoder_hidden\n",
    "\n",
    "        decoded_words = []\n",
    "        decoder_attentions = torch.zeros(max_length, max_length)\n",
    "\n",
    "        for di in range(max_length):\n",
    "            decoder_output, decoder_hidden, decoder_attention = decoder(\n",
    "                decoder_input, decoder_hidden, encoder_outputs)\n",
    "            decoder_attentions[di] = decoder_attention.data\n",
    "            topv, topi = decoder_output.data.topk(1)\n",
    "            if topi.item() == EOS_token:\n",
    "                decoded_words.append('<EOS>')\n",
    "                break\n",
    "            else:\n",
    "                decoded_words.append(output_lang.index2word[topi.item()])\n",
    "\n",
    "            decoder_input = topi.squeeze().detach()\n",
    "\n",
    "        return decoded_words, decoder_attentions[:di + 1]"
   ]
  },
  {
   "cell_type": "markdown",
   "metadata": {
    "gradient": {
     "editing": false,
     "id": "4ab44701-f761-4e4b-b8bc-5ca29ef60aae",
     "kernelId": "7decba31-cf39-41d5-90ab-e5e78fe9399b"
    }
   },
   "source": [
    "We can evaluate random sentences from the training set and print out the\n",
    "input, target, and output to make some subjective quality judgements:\n",
    "\n",
    "\n"
   ]
  },
  {
   "cell_type": "code",
   "execution_count": null,
   "metadata": {
    "collapsed": false,
    "gradient": {
     "editing": false,
     "id": "a0cc3c67-6d22-44e8-a982-9ca9d2a63fae",
     "kernelId": "7decba31-cf39-41d5-90ab-e5e78fe9399b"
    }
   },
   "outputs": [],
   "source": [
    "def evaluateRandomly(encoder, decoder, n=10):\n",
    "    for i in range(n):\n",
    "        pair = random.choice(pairs)\n",
    "        print('>', pair[0])\n",
    "        print('=', pair[1])\n",
    "        output_words, attentions = evaluate(encoder, decoder, pair[0])\n",
    "        output_sentence = ' '.join(output_words)\n",
    "        print('<', output_sentence)\n",
    "        print('')"
   ]
  },
  {
   "cell_type": "markdown",
   "metadata": {
    "gradient": {
     "editing": false,
     "id": "df7753f7-66f5-4039-adcf-7e75776dea9a",
     "kernelId": "7decba31-cf39-41d5-90ab-e5e78fe9399b"
    }
   },
   "source": [
    "Training and Evaluating\n",
    "=======================\n",
    "\n",
    "With all these helper functions in place (it looks like extra work, but\n",
    "it makes it easier to run multiple experiments) we can actually\n",
    "initialize a network and start training.\n",
    "\n",
    "Remember that the input sentences were heavily filtered. For this small\n",
    "dataset we can use relatively small networks of 256 hidden nodes and a\n",
    "single GRU layer. After about 40 minutes on a MacBook CPU we'll get some\n",
    "reasonable results.\n",
    "\n",
    ".. Note::\n",
    "   If you run this notebook you can train, interrupt the kernel,\n",
    "   evaluate, and continue training later. Comment out the lines where the\n",
    "   encoder and decoder are initialized and run ``trainIters`` again.\n",
    "\n",
    "\n"
   ]
  },
  {
   "cell_type": "code",
   "execution_count": null,
   "metadata": {
    "collapsed": false,
    "gradient": {
     "editing": false,
     "id": "46dfad94-5736-41af-98b1-ba527ca29b68",
     "kernelId": "7decba31-cf39-41d5-90ab-e5e78fe9399b",
     "source_hidden": false
    }
   },
   "outputs": [
    {
     "name": "stdout",
     "output_type": "stream",
     "text": [
      "1m 53s (- 45m 30s) (5000 4%) 2.7107\n"
     ]
    },
    {
     "name": "stdout",
     "output_type": "stream",
     "text": [
      "3m 36s (- 41m 31s) (10000 8%) 2.2404\n"
     ]
    },
    {
     "name": "stdout",
     "output_type": "stream",
     "text": [
      "5m 23s (- 39m 34s) (15000 12%) 2.0120\n"
     ]
    },
    {
     "name": "stdout",
     "output_type": "stream",
     "text": [
      "7m 14s (- 38m 1s) (20000 16%) 1.8386\n"
     ]
    },
    {
     "name": "stdout",
     "output_type": "stream",
     "text": [
      "9m 2s (- 36m 10s) (25000 20%) 1.7439\n"
     ]
    },
    {
     "name": "stdout",
     "output_type": "stream",
     "text": [
      "10m 49s (- 34m 15s) (30000 24%) 1.6517\n"
     ]
    },
    {
     "name": "stdout",
     "output_type": "stream",
     "text": [
      "12m 36s (- 32m 26s) (35000 28%) 1.5426\n"
     ]
    },
    {
     "name": "stdout",
     "output_type": "stream",
     "text": [
      "14m 24s (- 30m 36s) (40000 32%) 1.4738\n"
     ]
    },
    {
     "name": "stdout",
     "output_type": "stream",
     "text": [
      "16m 10s (- 28m 44s) (45000 36%) 1.3998\n"
     ]
    },
    {
     "name": "stdout",
     "output_type": "stream",
     "text": [
      "17m 56s (- 26m 54s) (50000 40%) 1.3254\n"
     ]
    },
    {
     "name": "stdout",
     "output_type": "stream",
     "text": [
      "19m 40s (- 25m 2s) (55000 44%) 1.2807\n"
     ]
    },
    {
     "name": "stdout",
     "output_type": "stream",
     "text": [
      "21m 29s (- 23m 16s) (60000 48%) 1.2164\n"
     ]
    },
    {
     "name": "stdout",
     "output_type": "stream",
     "text": [
      "23m 14s (- 21m 27s) (65000 52%) 1.1660\n"
     ]
    },
    {
     "name": "stdout",
     "output_type": "stream",
     "text": [
      "25m 0s (- 19m 39s) (70000 56%) 1.1545\n"
     ]
    },
    {
     "name": "stdout",
     "output_type": "stream",
     "text": [
      "26m 47s (- 17m 51s) (75000 60%) 1.0941\n"
     ]
    },
    {
     "name": "stdout",
     "output_type": "stream",
     "text": [
      "28m 33s (- 16m 3s) (80000 64%) 1.0376\n"
     ]
    },
    {
     "name": "stdout",
     "output_type": "stream",
     "text": [
      "30m 20s (- 14m 16s) (85000 68%) 1.0074\n"
     ]
    },
    {
     "name": "stdout",
     "output_type": "stream",
     "text": [
      "32m 6s (- 12m 29s) (90000 72%) 0.9850\n"
     ]
    },
    {
     "name": "stdout",
     "output_type": "stream",
     "text": [
      "33m 54s (- 10m 42s) (95000 76%) 0.9223\n"
     ]
    },
    {
     "name": "stdout",
     "output_type": "stream",
     "text": [
      "35m 42s (- 8m 55s) (100000 80%) 0.9126\n"
     ]
    },
    {
     "name": "stdout",
     "output_type": "stream",
     "text": [
      "37m 29s (- 7m 8s) (105000 84%) 0.8728\n"
     ]
    },
    {
     "name": "stdout",
     "output_type": "stream",
     "text": [
      "39m 20s (- 5m 21s) (110000 88%) 0.8504\n"
     ]
    },
    {
     "name": "stdout",
     "output_type": "stream",
     "text": [
      "41m 7s (- 3m 34s) (115000 92%) 0.8279\n"
     ]
    },
    {
     "name": "stdout",
     "output_type": "stream",
     "text": [
      "42m 56s (- 1m 47s) (120000 96%) 0.7864\n"
     ]
    },
    {
     "name": "stdout",
     "output_type": "stream",
     "text": [
      "44m 43s (- 0m 0s) (125000 100%) 0.7696\n"
     ]
    }
   ],
   "source": [
    "hidden_size = 256\n",
    "encoder1 = EncoderRNN(input_lang.n_words, hidden_size).to(device)\n",
    "attn_decoder1 = AttnDecoderRNN(hidden_size, output_lang.n_words, dropout_p=0.1).to(device)\n",
    "\n",
    "trainIters(encoder1, attn_decoder1, 125000, print_every=5000)"
   ]
  },
  {
   "cell_type": "code",
   "execution_count": null,
   "metadata": {
    "collapsed": false,
    "gradient": {
     "editing": false,
     "id": "8fc7d2d5-2c31-4df2-a513-42e2e12f93aa",
     "kernelId": "7decba31-cf39-41d5-90ab-e5e78fe9399b"
    }
   },
   "outputs": [
    {
     "name": "stdout",
     "output_type": "stream",
     "text": [
      "> tu es idiot .\n",
      "= you re being silly .\n",
      "< you re silly . <EOS>\n",
      "\n",
      "> je suis de la ville .\n",
      "= i m from the city .\n",
      "< i m from the city . <EOS>\n",
      "\n",
      "> il attend que le train parte .\n",
      "= he s waiting for the train to leave .\n",
      "< he s waiting for the train to do . <EOS>\n",
      "\n",
      "> je ne suis pas au courant de leurs decisions .\n",
      "= i m not privy to their decisions .\n",
      "< i m not in to of her . <EOS>\n",
      "\n",
      "> je ne suis pas aussi malin que vous .\n",
      "= i m not as smart as you .\n",
      "< i m not as smart as you . <EOS>\n",
      "\n",
      "> tu es libre .\n",
      "= you re free .\n",
      "< you re free . <EOS>\n",
      "\n",
      "> il est plus intelligent que moi .\n",
      "= he is more clever than me .\n",
      "< he is more than than i am . <EOS>\n",
      "\n",
      "> elle est douee pour jouer au tennis .\n",
      "= she is good at playing tennis .\n",
      "< she is at for the tennis . . <EOS>\n",
      "\n",
      "> je commence a me sentir coupable a ce sujet .\n",
      "= i m beginning to feel guilty about it .\n",
      "< i m starting to feel up about this . <EOS>\n",
      "\n",
      "> il n est pas marie .\n",
      "= he is unmarried .\n",
      "< he s not married . <EOS>\n",
      "\n"
     ]
    }
   ],
   "source": [
    "evaluateRandomly(encoder1, attn_decoder1)"
   ]
  },
  {
   "cell_type": "markdown",
   "metadata": {
    "gradient": {
     "editing": false,
     "id": "42f4d16a-e7d4-4a2f-af44-fbceb50242c4",
     "kernelId": "7decba31-cf39-41d5-90ab-e5e78fe9399b"
    }
   },
   "source": [
    "Visualizing Attention\n",
    "---------------------\n",
    "\n",
    "A useful property of the attention mechanism is its highly interpretable\n",
    "outputs. Because it is used to weight specific encoder outputs of the\n",
    "input sequence, we can imagine looking where the network is focused most\n",
    "at each time step.\n",
    "\n",
    "You could simply run ``plt.matshow(attentions)`` to see attention output\n",
    "displayed as a matrix, with the columns being input steps and rows being\n",
    "output steps:\n",
    "\n",
    "\n"
   ]
  },
  {
   "cell_type": "code",
   "execution_count": null,
   "metadata": {
    "collapsed": false,
    "gradient": {
     "editing": false,
     "id": "2929dcfb-6e68-4371-9bbe-da99126bb077",
     "kernelId": "7decba31-cf39-41d5-90ab-e5e78fe9399b"
    }
   },
   "outputs": [
    {
     "data": {
      "text/plain": [
       "<matplotlib.image.AxesImage at 0x7fae9fcaa730>"
      ]
     },
     "execution_count": 27,
     "metadata": {},
     "output_type": "execute_result"
    },
    {
     "data": {
      "image/png": "[encoded data removed]",
      "text/plain": [
       "<Figure size 576x288 with 1 Axes>"
      ]
     },
     "metadata": {
      "needs_background": "light"
     },
     "output_type": "display_data",
     "transient": {}
    }
   ],
   "source": [
    "%matplotlib inline\n",
    "output_words, attentions = evaluate(\n",
    "    encoder1, attn_decoder1, \"je suis trop froid .\")\n",
    "plt.matshow(attentions.numpy())"
   ]
  },
  {
   "cell_type": "markdown",
   "metadata": {
    "gradient": {
     "editing": false,
     "id": "a844672b-34cd-47c4-9f2a-c83a02006ddb",
     "kernelId": "7decba31-cf39-41d5-90ab-e5e78fe9399b"
    }
   },
   "source": [
    "For a better viewing experience we will do the extra work of adding axes\n",
    "and labels:\n",
    "\n",
    "\n"
   ]
  },
  {
   "cell_type": "code",
   "execution_count": null,
   "metadata": {
    "collapsed": false,
    "gradient": {
     "editing": false,
     "id": "3da297f3-9d6d-4d31-a557-e56fa5ed5295",
     "kernelId": "7decba31-cf39-41d5-90ab-e5e78fe9399b"
    }
   },
   "outputs": [
    {
     "name": "stdout",
     "output_type": "stream",
     "text": [
      "input = elle a cinq ans de moins que moi .\n",
      "output = she s five years older than i am . <EOS>\n"
     ]
    },
    {
     "name": "stderr",
     "output_type": "stream",
     "text": [
      "/tmp/ipykernel_98/744067545.py:9: UserWarning: FixedFormatter should only be used together with FixedLocator\n",
      "  ax.set_xticklabels([''] + input_sentence.split(' ') +\n",
      "/tmp/ipykernel_98/744067545.py:11: UserWarning: FixedFormatter should only be used together with FixedLocator\n",
      "  ax.set_yticklabels([''] + output_words)\n"
     ]
    },
    {
     "data": {
      "image/png": "[encoded data removed]",
      "text/plain": [
       "<Figure size 432x288 with 2 Axes>"
      ]
     },
     "metadata": {
      "needs_background": "light"
     },
     "output_type": "display_data",
     "transient": {}
    },
    {
     "name": "stdout",
     "output_type": "stream",
     "text": [
      "input = elle est trop petit .\n",
      "output = she s too loud . <EOS>\n"
     ]
    },
    {
     "data": {
      "image/png": "[encoded data removed]",
      "text/plain": [
       "<Figure size 432x288 with 2 Axes>"
      ]
     },
     "metadata": {
      "needs_background": "light"
     },
     "output_type": "display_data",
     "transient": {}
    },
    {
     "name": "stdout",
     "output_type": "stream",
     "text": [
      "input = je ne crains pas de mourir .\n",
      "output = i m not scared of death . <EOS>\n"
     ]
    },
    {
     "data": {
      "image/png": "[encoded data removed]",
      "text/plain": [
       "<Figure size 432x288 with 2 Axes>"
      ]
     },
     "metadata": {
      "needs_background": "light"
     },
     "output_type": "display_data",
     "transient": {}
    },
    {
     "name": "stdout",
     "output_type": "stream",
     "text": [
      "input = c est un jeune directeur plein de talent .\n",
      "output = he s a talented young director . <EOS>\n"
     ]
    },
    {
     "data": {
      "image/png": "[encoded data removed]",
      "text/plain": [
       "<Figure size 432x288 with 2 Axes>"
      ]
     },
     "metadata": {
      "needs_background": "light"
     },
     "output_type": "display_data",
     "transient": {}
    }
   ],
   "source": [
    "def showAttention(input_sentence, output_words, attentions):\n",
    "    # Set up figure with colorbar\n",
    "    fig = plt.figure()\n",
    "    ax = fig.add_subplot(111)\n",
    "    cax = ax.matshow(attentions.numpy(), cmap='bone')\n",
    "    fig.colorbar(cax)\n",
    "\n",
    "    # Set up axes\n",
    "    ax.set_xticklabels([''] + input_sentence.split(' ') +\n",
    "                       ['<EOS>'], rotation=90)\n",
    "    ax.set_yticklabels([''] + output_words)\n",
    "\n",
    "    # Show label at every tick\n",
    "    ax.xaxis.set_major_locator(ticker.MultipleLocator(1))\n",
    "    ax.yaxis.set_major_locator(ticker.MultipleLocator(1))\n",
    "\n",
    "    plt.show()\n",
    "\n",
    "\n",
    "def evaluateAndShowAttention(input_sentence):\n",
    "    output_words, attentions = evaluate(\n",
    "        encoder1, attn_decoder1, input_sentence)\n",
    "    print('input =', input_sentence)\n",
    "    print('output =', ' '.join(output_words))\n",
    "    showAttention(input_sentence, output_words, attentions)\n",
    "\n",
    "\n",
    "evaluateAndShowAttention(\"elle a cinq ans de moins que moi .\")\n",
    "\n",
    "evaluateAndShowAttention(\"elle est trop petit .\")\n",
    "\n",
    "evaluateAndShowAttention(\"je ne crains pas de mourir .\")\n",
    "\n",
    "evaluateAndShowAttention(\"c est un jeune directeur plein de talent .\")"
   ]
  },
  {
   "cell_type": "markdown",
   "metadata": {
    "gradient": {
     "editing": false,
     "id": "d14bc3c2-e381-47ed-add7-3af41f021e13",
     "kernelId": "7decba31-cf39-41d5-90ab-e5e78fe9399b"
    }
   },
   "source": [
    "Exercises\n",
    "=========\n",
    "\n",
    "-  Try with a different dataset\n",
    "\n",
    "   -  Another language pair\n",
    "   -  Human → Machine (e.g. IOT commands)\n",
    "   -  Chat → Response\n",
    "   -  Question → Answer\n",
    "\n",
    "-  Replace the embeddings with pre-trained word embeddings such as word2vec or\n",
    "   GloVe\n",
    "-  Try with more layers, more hidden units, and more sentences. Compare\n",
    "   the training time and results.\n",
    "-  If you use a translation file where pairs have two of the same phrase\n",
    "   (``I am test \\t I am test``), you can use this as an autoencoder. Try\n",
    "   this:\n",
    "\n",
    "   -  Train as an autoencoder\n",
    "   -  Save only the Encoder network\n",
    "   -  Train a new Decoder for translation from there\n",
    "\n",
    "\n"
   ]
  },
  {
   "cell_type": "markdown",
   "metadata": {
    "gradient": {
     "editing": false,
     "id": "4cbc7d03-37ec-45f6-ab3b-9e0b982dfeec",
     "kernelId": "7decba31-cf39-41d5-90ab-e5e78fe9399b"
    }
   },
   "source": [
    "# Accelerating the entire process with DeepSpeed AI"
   ]
  },
  {
   "cell_type": "code",
   "execution_count": null,
   "metadata": {
    "collapsed": false,
    "gradient": {
     "editing": false,
     "id": "2642a0da-baac-4cb8-a2d6-cf354139e339",
     "kernelId": "7decba31-cf39-41d5-90ab-e5e78fe9399b",
     "source_hidden": false
    }
   },
   "outputs": [
    {
     "name": "stdout",
     "output_type": "stream",
     "text": [
      "Looking in indexes: https://pypi.org/simple, https://pypi.ngc.nvidia.com\r\n"
     ]
    },
    {
     "name": "stdout",
     "output_type": "stream",
     "text": [
      "Collecting pytorch_lightning\r\n"
     ]
    },
    {
     "name": "stdout",
     "output_type": "stream",
     "text": [
      "  Downloading pytorch_lightning-1.5.10-py3-none-any.whl (527 kB)\r\n",
      "\u001b[?25l\r",
      "\u001b[K     |▋                               | 10 kB 34.6 MB/s eta 0:00:01\r",
      "\u001b[K     |█▎                              | 20 kB 38.6 MB/s eta 0:00:01\r",
      "\u001b[K     |█▉                              | 30 kB 44.9 MB/s eta 0:00:01\r",
      "\u001b[K     |██▌                             | 40 kB 22.7 MB/s eta 0:00:01\r",
      "\u001b[K     |███                             | 51 kB 26.4 MB/s eta 0:00:01\r",
      "\u001b[K     |███▊                            | 61 kB 22.2 MB/s eta 0:00:01\r",
      "\u001b[K     |████▍                           | 71 kB 22.6 MB/s eta 0:00:01\r",
      "\u001b[K     |█████                           | 81 kB 25.2 MB/s eta 0:00:01\r",
      "\u001b[K     |█████▋                          | 92 kB 23.5 MB/s eta 0:00:01\r",
      "\u001b[K     |██████▏                         | 102 kB 24.1 MB/s eta 0:00:01\r",
      "\u001b[K     |██████▉                         | 112 kB 24.1 MB/s eta 0:00:01\r",
      "\u001b[K     |███████▌                        | 122 kB 24.1 MB/s eta 0:00:01\r",
      "\u001b[K     |████████                        | 133 kB 24.1 MB/s eta 0:00:01\r",
      "\u001b[K     |████████▊                       | 143 kB 24.1 MB/s eta 0:00:01\r",
      "\u001b[K     |█████████▎                      | 153 kB 24.1 MB/s eta 0:00:01\r",
      "\u001b[K     |██████████                      | 163 kB 24.1 MB/s eta 0:00:01\r",
      "\u001b[K     |██████████▋                     | 174 kB 24.1 MB/s eta 0:00:01\r",
      "\u001b[K     |███████████▏                    | 184 kB 24.1 MB/s eta 0:00:01\r",
      "\u001b[K     |███████████▉                    | 194 kB 24.1 MB/s eta 0:00:01\r",
      "\u001b[K     |████████████▍                   | 204 kB 24.1 MB/s eta 0:00:01\r",
      "\u001b[K     |█████████████                   | 215 kB 24.1 MB/s eta 0:00:01\r",
      "\u001b[K     |█████████████▋                  | 225 kB 24.1 MB/s eta 0:00:01\r",
      "\u001b[K     |██████████████▎                 | 235 kB 24.1 MB/s eta 0:00:01\r",
      "\u001b[K     |███████████████                 | 245 kB 24.1 MB/s eta 0:00:01\r",
      "\u001b[K     |███████████████▌                | 256 kB 24.1 MB/s eta 0:00:01\r",
      "\u001b[K     |████████████████▏               | 266 kB 24.1 MB/s eta 0:00:01\r",
      "\u001b[K     |████████████████▊               | 276 kB 24.1 MB/s eta 0:00:01\r",
      "\u001b[K     |█████████████████▍              | 286 kB 24.1 MB/s eta 0:00:01\r",
      "\u001b[K     |██████████████████              | 296 kB 24.1 MB/s eta 0:00:01\r",
      "\u001b[K     |██████████████████▋             | 307 kB 24.1 MB/s eta 0:00:01\r",
      "\u001b[K     |███████████████████▎            | 317 kB 24.1 MB/s eta 0:00:01\r",
      "\u001b[K     |███████████████████▉            | 327 kB 24.1 MB/s eta 0:00:01\r",
      "\u001b[K     |████████████████████▌           | 337 kB 24.1 MB/s eta 0:00:01\r",
      "\u001b[K     |█████████████████████▏          | 348 kB 24.1 MB/s eta 0:00:01\r",
      "\u001b[K     |█████████████████████▊          | 358 kB 24.1 MB/s eta 0:00:01\r",
      "\u001b[K     |██████████████████████▍         | 368 kB 24.1 MB/s eta 0:00:01\r",
      "\u001b[K     |███████████████████████         | 378 kB 24.1 MB/s eta 0:00:01\r",
      "\u001b[K     |███████████████████████▋        | 389 kB 24.1 MB/s eta 0:00:01\r",
      "\u001b[K     |████████████████████████▏       | 399 kB 24.1 MB/s eta 0:00:01\r",
      "\u001b[K     |████████████████████████▉       | 409 kB 24.1 MB/s eta 0:00:01"
     ]
    },
    {
     "name": "stdout",
     "output_type": "stream",
     "text": [
      "\r",
      "\u001b[K     |█████████████████████████▌      | 419 kB 24.1 MB/s eta 0:00:01\r",
      "\u001b[K     |██████████████████████████      | 430 kB 24.1 MB/s eta 0:00:01\r",
      "\u001b[K     |██████████████████████████▊     | 440 kB 24.1 MB/s eta 0:00:01\r",
      "\u001b[K     |███████████████████████████▎    | 450 kB 24.1 MB/s eta 0:00:01\r",
      "\u001b[K     |████████████████████████████    | 460 kB 24.1 MB/s eta 0:00:01\r",
      "\u001b[K     |████████████████████████████▋   | 471 kB 24.1 MB/s eta 0:00:01\r",
      "\u001b[K     |█████████████████████████████▏  | 481 kB 24.1 MB/s eta 0:00:01\r",
      "\u001b[K     |█████████████████████████████▉  | 491 kB 24.1 MB/s eta 0:00:01\r",
      "\u001b[K     |██████████████████████████████▍ | 501 kB 24.1 MB/s eta 0:00:01\r",
      "\u001b[K     |███████████████████████████████ | 512 kB 24.1 MB/s eta 0:00:01\r",
      "\u001b[K     |███████████████████████████████▊| 522 kB 24.1 MB/s eta 0:00:01\r",
      "\u001b[K     |████████████████████████████████| 527 kB 24.1 MB/s \r\n"
     ]
    },
    {
     "name": "stdout",
     "output_type": "stream",
     "text": [
      "\u001b[?25hCollecting torchmetrics>=0.4.1\r\n",
      "  Downloading torchmetrics-0.7.2-py3-none-any.whl (397 kB)\r\n",
      "\u001b[?25l\r",
      "\u001b[K     |▉                               | 10 kB 29.5 MB/s eta 0:00:01\r",
      "\u001b[K     |█▋                              | 20 kB 39.6 MB/s eta 0:00:01\r",
      "\u001b[K     |██▌                             | 30 kB 51.2 MB/s eta 0:00:01\r",
      "\u001b[K     |███▎                            | 40 kB 50.1 MB/s eta 0:00:01\r",
      "\u001b[K     |████▏                           | 51 kB 30.1 MB/s eta 0:00:01\r",
      "\u001b[K     |█████                           | 61 kB 34.3 MB/s eta 0:00:01\r",
      "\u001b[K     |█████▊                          | 71 kB 38.1 MB/s eta 0:00:01\r",
      "\u001b[K     |██████▋                         | 81 kB 41.9 MB/s eta 0:00:01\r",
      "\u001b[K     |███████▍                        | 92 kB 31.3 MB/s eta 0:00:01\r",
      "\u001b[K     |████████▎                       | 102 kB 28.1 MB/s eta 0:00:01\r",
      "\u001b[K     |█████████                       | 112 kB 28.1 MB/s eta 0:00:01\r",
      "\u001b[K     |██████████                      | 122 kB 28.1 MB/s eta 0:00:01\r",
      "\u001b[K     |██████████▊                     | 133 kB 28.1 MB/s eta 0:00:01\r",
      "\u001b[K     |███████████▌                    | 143 kB 28.1 MB/s eta 0:00:01\r",
      "\u001b[K     |████████████▍                   | 153 kB 28.1 MB/s eta 0:00:01\r",
      "\u001b[K     |█████████████▏                  | 163 kB 28.1 MB/s eta 0:00:01\r",
      "\u001b[K     |██████████████                  | 174 kB 28.1 MB/s eta 0:00:01\r",
      "\u001b[K     |██████████████▉                 | 184 kB 28.1 MB/s eta 0:00:01\r",
      "\u001b[K     |███████████████▊                | 194 kB 28.1 MB/s eta 0:00:01\r",
      "\u001b[K     |████████████████▌               | 204 kB 28.1 MB/s eta 0:00:01\r",
      "\u001b[K     |█████████████████▎              | 215 kB 28.1 MB/s eta 0:00:01\r",
      "\u001b[K     |██████████████████▏             | 225 kB 28.1 MB/s eta 0:00:01\r",
      "\u001b[K     |███████████████████             | 235 kB 28.1 MB/s eta 0:00:01\r",
      "\u001b[K     |███████████████████▉            | 245 kB 28.1 MB/s eta 0:00:01\r",
      "\u001b[K     |████████████████████▋           | 256 kB 28.1 MB/s eta 0:00:01"
     ]
    },
    {
     "name": "stdout",
     "output_type": "stream",
     "text": [
      "\r",
      "\u001b[K     |█████████████████████▌          | 266 kB 28.1 MB/s eta 0:00:01\r",
      "\u001b[K     |██████████████████████▎         | 276 kB 28.1 MB/s eta 0:00:01\r",
      "\u001b[K     |███████████████████████         | 286 kB 28.1 MB/s eta 0:00:01\r",
      "\u001b[K     |████████████████████████        | 296 kB 28.1 MB/s eta 0:00:01\r",
      "\u001b[K     |████████████████████████▊       | 307 kB 28.1 MB/s eta 0:00:01\r",
      "\u001b[K     |█████████████████████████▋      | 317 kB 28.1 MB/s eta 0:00:01\r",
      "\u001b[K     |██████████████████████████▍     | 327 kB 28.1 MB/s eta 0:00:01\r",
      "\u001b[K     |███████████████████████████▎    | 337 kB 28.1 MB/s eta 0:00:01\r",
      "\u001b[K     |████████████████████████████    | 348 kB 28.1 MB/s eta 0:00:01\r",
      "\u001b[K     |████████████████████████████▉   | 358 kB 28.1 MB/s eta 0:00:01\r",
      "\u001b[K     |█████████████████████████████▊  | 368 kB 28.1 MB/s eta 0:00:01\r",
      "\u001b[K     |██████████████████████████████▌ | 378 kB 28.1 MB/s eta 0:00:01\r",
      "\u001b[K     |███████████████████████████████▍| 389 kB 28.1 MB/s eta 0:00:01\r",
      "\u001b[K     |████████████████████████████████| 397 kB 28.1 MB/s \r\n"
     ]
    },
    {
     "name": "stdout",
     "output_type": "stream",
     "text": [
      "\u001b[?25hCollecting pyDeprecate==0.3.1\r\n",
      "  Downloading pyDeprecate-0.3.1-py3-none-any.whl (10 kB)\r\n"
     ]
    },
    {
     "name": "stdout",
     "output_type": "stream",
     "text": [
      "Collecting fsspec[http]!=2021.06.0,>=2021.05.0\r\n"
     ]
    },
    {
     "name": "stdout",
     "output_type": "stream",
     "text": [
      "  Downloading fsspec-2022.1.0-py3-none-any.whl (133 kB)\r\n",
      "\u001b[?25l\r",
      "\u001b[K     |██▌                             | 10 kB 42.0 MB/s eta 0:00:01\r",
      "\u001b[K     |█████                           | 20 kB 48.2 MB/s eta 0:00:01\r",
      "\u001b[K     |███████▍                        | 30 kB 59.6 MB/s eta 0:00:01\r",
      "\u001b[K     |█████████▉                      | 40 kB 56.4 MB/s eta 0:00:01\r",
      "\u001b[K     |████████████▎                   | 51 kB 28.5 MB/s eta 0:00:01\r",
      "\u001b[K     |██████████████▊                 | 61 kB 32.6 MB/s eta 0:00:01\r",
      "\u001b[K     |█████████████████▏              | 71 kB 29.8 MB/s eta 0:00:01\r",
      "\u001b[K     |███████████████████▊            | 81 kB 32.9 MB/s eta 0:00:01\r",
      "\u001b[K     |██████████████████████▏         | 92 kB 30.2 MB/s eta 0:00:01\r",
      "\u001b[K     |████████████████████████▋       | 102 kB 27.0 MB/s eta 0:00:01\r",
      "\u001b[K     |███████████████████████████     | 112 kB 27.0 MB/s eta 0:00:01\r",
      "\u001b[K     |█████████████████████████████▌  | 122 kB 27.0 MB/s eta 0:00:01\r",
      "\u001b[K     |████████████████████████████████| 133 kB 27.0 MB/s eta 0:00:01\r",
      "\u001b[K     |████████████████████████████████| 133 kB 27.0 MB/s \r\n",
      "\u001b[?25hRequirement already satisfied: torch>=1.7.* in /opt/conda/lib/python3.8/site-packages (from pytorch_lightning) (1.10.0a0+0aef44c)\r\n"
     ]
    },
    {
     "name": "stdout",
     "output_type": "stream",
     "text": [
      "Collecting setuptools==59.5.0\r\n"
     ]
    },
    {
     "name": "stdout",
     "output_type": "stream",
     "text": [
      "  Downloading setuptools-59.5.0-py3-none-any.whl (952 kB)\r\n",
      "\u001b[?25l\r",
      "\u001b[K     |▍                               | 10 kB 42.4 MB/s eta 0:00:01\r",
      "\u001b[K     |▊                               | 20 kB 52.9 MB/s eta 0:00:01\r",
      "\u001b[K     |█                               | 30 kB 65.1 MB/s eta 0:00:01\r",
      "\u001b[K     |█▍                              | 40 kB 46.0 MB/s eta 0:00:01\r",
      "\u001b[K     |█▊                              | 51 kB 42.8 MB/s eta 0:00:01\r",
      "\u001b[K     |██                              | 61 kB 47.8 MB/s eta 0:00:01\r",
      "\u001b[K     |██▍                             | 71 kB 52.4 MB/s eta 0:00:01\r",
      "\u001b[K     |██▊                             | 81 kB 57.0 MB/s eta 0:00:01\r",
      "\u001b[K     |███                             | 92 kB 32.0 MB/s eta 0:00:01\r",
      "\u001b[K     |███▍                            | 102 kB 34.2 MB/s eta 0:00:01\r",
      "\u001b[K     |███▉                            | 112 kB 34.2 MB/s eta 0:00:01\r",
      "\u001b[K     |████▏                           | 122 kB 34.2 MB/s eta 0:00:01\r",
      "\u001b[K     |████▌                           | 133 kB 34.2 MB/s eta 0:00:01\r",
      "\u001b[K     |████▉                           | 143 kB 34.2 MB/s eta 0:00:01\r",
      "\u001b[K     |█████▏                          | 153 kB 34.2 MB/s eta 0:00:01\r",
      "\u001b[K     |█████▌                          | 163 kB 34.2 MB/s eta 0:00:01\r",
      "\u001b[K     |█████▉                          | 174 kB 34.2 MB/s eta 0:00:01\r",
      "\u001b[K     |██████▏                         | 184 kB 34.2 MB/s eta 0:00:01\r",
      "\u001b[K     |██████▌                         | 194 kB 34.2 MB/s eta 0:00:01\r",
      "\u001b[K     |██████▉                         | 204 kB 34.2 MB/s eta 0:00:01\r",
      "\u001b[K     |███████▎                        | 215 kB 34.2 MB/s eta 0:00:01\r",
      "\u001b[K     |███████▋                        | 225 kB 34.2 MB/s eta 0:00:01\r",
      "\u001b[K     |████████                        | 235 kB 34.2 MB/s eta 0:00:01\r",
      "\u001b[K     |████████▎                       | 245 kB 34.2 MB/s eta 0:00:01\r",
      "\u001b[K     |████████▋                       | 256 kB 34.2 MB/s eta 0:00:01\r",
      "\u001b[K     |█████████                       | 266 kB 34.2 MB/s eta 0:00:01\r",
      "\u001b[K     |█████████▎                      | 276 kB 34.2 MB/s eta 0:00:01\r",
      "\u001b[K     |█████████▋                      | 286 kB 34.2 MB/s eta 0:00:01\r",
      "\u001b[K     |██████████                      | 296 kB 34.2 MB/s eta 0:00:01\r",
      "\u001b[K     |██████████▎                     | 307 kB 34.2 MB/s eta 0:00:01\r",
      "\u001b[K     |██████████▋                     | 317 kB 34.2 MB/s eta 0:00:01\r",
      "\u001b[K     |███████████                     | 327 kB 34.2 MB/s eta 0:00:01\r",
      "\u001b[K     |███████████▍                    | 337 kB 34.2 MB/s eta 0:00:01\r",
      "\u001b[K     |███████████▊                    | 348 kB 34.2 MB/s eta 0:00:01\r",
      "\u001b[K     |████████████                    | 358 kB 34.2 MB/s eta 0:00:01\r",
      "\u001b[K     |████████████▍                   | 368 kB 34.2 MB/s eta 0:00:01\r",
      "\u001b[K     |████████████▊                   | 378 kB 34.2 MB/s eta 0:00:01\r",
      "\u001b[K     |█████████████                   | 389 kB 34.2 MB/s eta 0:00:01\r",
      "\u001b[K     |█████████████▍                  | 399 kB 34.2 MB/s eta 0:00:01\r",
      "\u001b[K     |█████████████▊                  | 409 kB 34.2 MB/s eta 0:00:01\r",
      "\u001b[K     |██████████████                  | 419 kB 34.2 MB/s eta 0:00:01\r",
      "\u001b[K     |██████████████▌                 | 430 kB 34.2 MB/s eta 0:00:01\r",
      "\u001b[K     |██████████████▉                 | 440 kB 34.2 MB/s eta 0:00:01\r",
      "\u001b[K     |███████████████▏                | 450 kB 34.2 MB/s eta 0:00:01\r",
      "\u001b[K     |███████████████▌                | 460 kB 34.2 MB/s eta 0:00:01\r",
      "\u001b[K     |███████████████▉                | 471 kB 34.2 MB/s eta 0:00:01\r",
      "\u001b[K     |████████████████▏               | 481 kB 34.2 MB/s eta 0:00:01\r",
      "\u001b[K     |████████████████▌               | 491 kB 34.2 MB/s eta 0:00:01\r",
      "\u001b[K     |████████████████▉               | 501 kB 34.2 MB/s eta 0:00:01\r",
      "\u001b[K     |█████████████████▏              | 512 kB 34.2 MB/s eta 0:00:01\r",
      "\u001b[K     |█████████████████▌              | 522 kB 34.2 MB/s eta 0:00:01\r",
      "\u001b[K     |██████████████████              | 532 kB 34.2 MB/s eta 0:00:01\r",
      "\u001b[K     |██████████████████▎             | 542 kB 34.2 MB/s eta 0:00:01\r",
      "\u001b[K     |██████████████████▋             | 552 kB 34.2 MB/s eta 0:00:01\r",
      "\u001b[K     |███████████████████             | 563 kB 34.2 MB/s eta 0:00:01\r",
      "\u001b[K     |███████████████████▎            | 573 kB 34.2 MB/s eta 0:00:01\r",
      "\u001b[K     |███████████████████▋            | 583 kB 34.2 MB/s eta 0:00:01\r",
      "\u001b[K     |████████████████████            | 593 kB 34.2 MB/s eta 0:00:01\r",
      "\u001b[K     |████████████████████▎           | 604 kB 34.2 MB/s eta 0:00:01\r",
      "\u001b[K     |████████████████████▋           | 614 kB 34.2 MB/s eta 0:00:01\r",
      "\u001b[K     |█████████████████████           | 624 kB 34.2 MB/s eta 0:00:01\r",
      "\u001b[K     |█████████████████████▎          | 634 kB 34.2 MB/s eta 0:00:01\r",
      "\u001b[K     |█████████████████████▊          | 645 kB 34.2 MB/s eta 0:00:01\r",
      "\u001b[K     |██████████████████████          | 655 kB 34.2 MB/s eta 0:00:01\r",
      "\u001b[K     |██████████████████████▍         | 665 kB 34.2 MB/s eta 0:00:01\r",
      "\u001b[K     |██████████████████████▊         | 675 kB 34.2 MB/s eta 0:00:01\r",
      "\u001b[K     |███████████████████████         | 686 kB 34.2 MB/s eta 0:00:01\r",
      "\u001b[K     |███████████████████████▍        | 696 kB 34.2 MB/s eta 0:00:01\r",
      "\u001b[K     |███████████████████████▊        | 706 kB 34.2 MB/s eta 0:00:01\r",
      "\u001b[K     |████████████████████████        | 716 kB 34.2 MB/s eta 0:00:01\r",
      "\u001b[K     |████████████████████████▍       | 727 kB 34.2 MB/s eta 0:00:01\r",
      "\u001b[K     |████████████████████████▊       | 737 kB 34.2 MB/s eta 0:00:01\r",
      "\u001b[K     |█████████████████████████▏      | 747 kB 34.2 MB/s eta 0:00:01\r",
      "\u001b[K     |█████████████████████████▌      | 757 kB 34.2 MB/s eta 0:00:01\r",
      "\u001b[K     |█████████████████████████▉      | 768 kB 34.2 MB/s eta 0:00:01\r",
      "\u001b[K     |██████████████████████████▏     | 778 kB 34.2 MB/s eta 0:00:01\r",
      "\u001b[K     |██████████████████████████▌     | 788 kB 34.2 MB/s eta 0:00:01\r",
      "\u001b[K     |██████████████████████████▉     | 798 kB 34.2 MB/s eta 0:00:01\r",
      "\u001b[K     |███████████████████████████▏    | 808 kB 34.2 MB/s eta 0:00:01\r",
      "\u001b[K     |███████████████████████████▌    | 819 kB 34.2 MB/s eta 0:00:01\r",
      "\u001b[K     |███████████████████████████▉    | 829 kB 34.2 MB/s eta 0:00:01\r",
      "\u001b[K     |████████████████████████████▏   | 839 kB 34.2 MB/s eta 0:00:01\r",
      "\u001b[K     |████████████████████████████▋   | 849 kB 34.2 MB/s eta 0:00:01"
     ]
    },
    {
     "name": "stdout",
     "output_type": "stream",
     "text": [
      "\r",
      "\u001b[K     |█████████████████████████████   | 860 kB 34.2 MB/s eta 0:00:01\r",
      "\u001b[K     |█████████████████████████████▎  | 870 kB 34.2 MB/s eta 0:00:01\r",
      "\u001b[K     |█████████████████████████████▋  | 880 kB 34.2 MB/s eta 0:00:01\r",
      "\u001b[K     |██████████████████████████████  | 890 kB 34.2 MB/s eta 0:00:01\r",
      "\u001b[K     |██████████████████████████████▎ | 901 kB 34.2 MB/s eta 0:00:01\r",
      "\u001b[K     |██████████████████████████████▋ | 911 kB 34.2 MB/s eta 0:00:01\r",
      "\u001b[K     |███████████████████████████████ | 921 kB 34.2 MB/s eta 0:00:01\r",
      "\u001b[K     |███████████████████████████████▎| 931 kB 34.2 MB/s eta 0:00:01\r",
      "\u001b[K     |███████████████████████████████▋| 942 kB 34.2 MB/s eta 0:00:01\r",
      "\u001b[K     |████████████████████████████████| 952 kB 34.2 MB/s eta 0:00:01\r",
      "\u001b[K     |████████████████████████████████| 952 kB 34.2 MB/s \r\n",
      "\u001b[?25hRequirement already satisfied: tqdm>=4.41.0 in /opt/conda/lib/python3.8/site-packages (from pytorch_lightning) (4.62.3)\r\n",
      "Requirement already satisfied: PyYAML>=5.1 in /opt/conda/lib/python3.8/site-packages (from pytorch_lightning) (5.4.1)\r\n",
      "Requirement already satisfied: packaging>=17.0 in /opt/conda/lib/python3.8/site-packages (from pytorch_lightning) (21.0)\r\n",
      "Requirement already satisfied: future>=0.17.1 in /opt/conda/lib/python3.8/site-packages (from pytorch_lightning) (0.18.2)\r\n",
      "Requirement already satisfied: typing-extensions in /opt/conda/lib/python3.8/site-packages (from pytorch_lightning) (3.10.0.2)\r\n",
      "Requirement already satisfied: tensorboard>=2.2.0 in /opt/conda/lib/python3.8/site-packages (from pytorch_lightning) (2.6.0)\r\n",
      "Requirement already satisfied: numpy>=1.17.2 in /opt/conda/lib/python3.8/site-packages (from pytorch_lightning) (1.21.2)\r\n",
      "Requirement already satisfied: requests in /opt/conda/lib/python3.8/site-packages (from fsspec[http]!=2021.06.0,>=2021.05.0->pytorch_lightning) (2.26.0)\r\n"
     ]
    },
    {
     "name": "stdout",
     "output_type": "stream",
     "text": [
      "Collecting aiohttp\r\n",
      "  Downloading aiohttp-3.8.1-cp38-cp38-manylinux_2_5_x86_64.manylinux1_x86_64.manylinux_2_12_x86_64.manylinux2010_x86_64.whl (1.3 MB)\r\n",
      "\u001b[?25l\r",
      "\u001b[K     |▎                               | 10 kB 23.3 MB/s eta 0:00:01\r",
      "\u001b[K     |▌                               | 20 kB 27.7 MB/s eta 0:00:01\r",
      "\u001b[K     |▉                               | 30 kB 35.6 MB/s eta 0:00:01\r",
      "\u001b[K     |█                               | 40 kB 41.6 MB/s eta 0:00:01\r",
      "\u001b[K     |█▎                              | 51 kB 35.4 MB/s eta 0:00:01\r",
      "\u001b[K     |█▋                              | 61 kB 40.1 MB/s eta 0:00:01\r",
      "\u001b[K     |█▉                              | 71 kB 34.5 MB/s eta 0:00:01\r",
      "\u001b[K     |██                              | 81 kB 36.8 MB/s eta 0:00:01\r",
      "\u001b[K     |██▍                             | 92 kB 33.5 MB/s eta 0:00:01\r",
      "\u001b[K     |██▋                             | 102 kB 32.6 MB/s eta 0:00:01\r",
      "\u001b[K     |██▉                             | 112 kB 32.6 MB/s eta 0:00:01\r",
      "\u001b[K     |███▏                            | 122 kB 32.6 MB/s eta 0:00:01\r",
      "\u001b[K     |███▍                            | 133 kB 32.6 MB/s eta 0:00:01\r",
      "\u001b[K     |███▋                            | 143 kB 32.6 MB/s eta 0:00:01\r",
      "\u001b[K     |████                            | 153 kB 32.6 MB/s eta 0:00:01\r",
      "\u001b[K     |████▏                           | 163 kB 32.6 MB/s eta 0:00:01\r",
      "\u001b[K     |████▍                           | 174 kB 32.6 MB/s eta 0:00:01\r",
      "\u001b[K     |████▊                           | 184 kB 32.6 MB/s eta 0:00:01\r",
      "\u001b[K     |█████                           | 194 kB 32.6 MB/s eta 0:00:01\r",
      "\u001b[K     |█████▎                          | 204 kB 32.6 MB/s eta 0:00:01\r",
      "\u001b[K     |█████▌                          | 215 kB 32.6 MB/s eta 0:00:01\r",
      "\u001b[K     |█████▊                          | 225 kB 32.6 MB/s eta 0:00:01\r",
      "\u001b[K     |██████                          | 235 kB 32.6 MB/s eta 0:00:01\r",
      "\u001b[K     |██████▎                         | 245 kB 32.6 MB/s eta 0:00:01\r",
      "\u001b[K     |██████▌                         | 256 kB 32.6 MB/s eta 0:00:01\r",
      "\u001b[K     |██████▉                         | 266 kB 32.6 MB/s eta 0:00:01\r",
      "\u001b[K     |███████                         | 276 kB 32.6 MB/s eta 0:00:01\r",
      "\u001b[K     |███████▎                        | 286 kB 32.6 MB/s eta 0:00:01\r",
      "\u001b[K     |███████▋                        | 296 kB 32.6 MB/s eta 0:00:01\r",
      "\u001b[K     |███████▉                        | 307 kB 32.6 MB/s eta 0:00:01\r",
      "\u001b[K     |████████                        | 317 kB 32.6 MB/s eta 0:00:01\r",
      "\u001b[K     |████████▍                       | 327 kB 32.6 MB/s eta 0:00:01\r",
      "\u001b[K     |████████▋                       | 337 kB 32.6 MB/s eta 0:00:01\r",
      "\u001b[K     |████████▉                       | 348 kB 32.6 MB/s eta 0:00:01\r",
      "\u001b[K     |█████████▏                      | 358 kB 32.6 MB/s eta 0:00:01\r",
      "\u001b[K     |█████████▍                      | 368 kB 32.6 MB/s eta 0:00:01\r",
      "\u001b[K     |█████████▋                      | 378 kB 32.6 MB/s eta 0:00:01\r",
      "\u001b[K     |██████████                      | 389 kB 32.6 MB/s eta 0:00:01\r",
      "\u001b[K     |██████████▏                     | 399 kB 32.6 MB/s eta 0:00:01\r",
      "\u001b[K     |██████████▌                     | 409 kB 32.6 MB/s eta 0:00:01\r",
      "\u001b[K     |██████████▊                     | 419 kB 32.6 MB/s eta 0:00:01\r",
      "\u001b[K     |███████████                     | 430 kB 32.6 MB/s eta 0:00:01\r",
      "\u001b[K     |███████████▎                    | 440 kB 32.6 MB/s eta 0:00:01\r",
      "\u001b[K     |███████████▌                    | 450 kB 32.6 MB/s eta 0:00:01\r",
      "\u001b[K     |███████████▊                    | 460 kB 32.6 MB/s eta 0:00:01\r",
      "\u001b[K     |████████████                    | 471 kB 32.6 MB/s eta 0:00:01\r",
      "\u001b[K     |████████████▎                   | 481 kB 32.6 MB/s eta 0:00:01\r",
      "\u001b[K     |████████████▌                   | 491 kB 32.6 MB/s eta 0:00:01\r",
      "\u001b[K     |████████████▉                   | 501 kB 32.6 MB/s eta 0:00:01\r",
      "\u001b[K     |█████████████                   | 512 kB 32.6 MB/s eta 0:00:01\r",
      "\u001b[K     |█████████████▎                  | 522 kB 32.6 MB/s eta 0:00:01\r",
      "\u001b[K     |█████████████▋                  | 532 kB 32.6 MB/s eta 0:00:01\r",
      "\u001b[K     |█████████████▉                  | 542 kB 32.6 MB/s eta 0:00:01\r",
      "\u001b[K     |██████████████                  | 552 kB 32.6 MB/s eta 0:00:01\r",
      "\u001b[K     |██████████████▍                 | 563 kB 32.6 MB/s eta 0:00:01\r",
      "\u001b[K     |██████████████▋                 | 573 kB 32.6 MB/s eta 0:00:01\r",
      "\u001b[K     |███████████████                 | 583 kB 32.6 MB/s eta 0:00:01\r",
      "\u001b[K     |███████████████▏                | 593 kB 32.6 MB/s eta 0:00:01\r",
      "\u001b[K     |███████████████▍                | 604 kB 32.6 MB/s eta 0:00:01\r",
      "\u001b[K     |███████████████▊                | 614 kB 32.6 MB/s eta 0:00:01\r",
      "\u001b[K     |████████████████                | 624 kB 32.6 MB/s eta 0:00:01\r",
      "\u001b[K     |████████████████▏               | 634 kB 32.6 MB/s eta 0:00:01\r",
      "\u001b[K     |████████████████▌               | 645 kB 32.6 MB/s eta 0:00:01\r",
      "\u001b[K     |████████████████▊               | 655 kB 32.6 MB/s eta 0:00:01\r",
      "\u001b[K     |█████████████████               | 665 kB 32.6 MB/s eta 0:00:01\r",
      "\u001b[K     |█████████████████▎              | 675 kB 32.6 MB/s eta 0:00:01\r",
      "\u001b[K     |█████████████████▌              | 686 kB 32.6 MB/s eta 0:00:01\r",
      "\u001b[K     |█████████████████▊              | 696 kB 32.6 MB/s eta 0:00:01\r",
      "\u001b[K     |██████████████████              | 706 kB 32.6 MB/s eta 0:00:01\r",
      "\u001b[K     |██████████████████▎             | 716 kB 32.6 MB/s eta 0:00:01\r",
      "\u001b[K     |██████████████████▌             | 727 kB 32.6 MB/s eta 0:00:01\r",
      "\u001b[K     |██████████████████▉             | 737 kB 32.6 MB/s eta 0:00:01\r",
      "\u001b[K     |███████████████████             | 747 kB 32.6 MB/s eta 0:00:01\r",
      "\u001b[K     |███████████████████▎            | 757 kB 32.6 MB/s eta 0:00:01\r",
      "\u001b[K     |███████████████████▋            | 768 kB 32.6 MB/s eta 0:00:01\r",
      "\u001b[K     |███████████████████▉            | 778 kB 32.6 MB/s eta 0:00:01\r",
      "\u001b[K     |████████████████████▏           | 788 kB 32.6 MB/s eta 0:00:01\r",
      "\u001b[K     |████████████████████▍           | 798 kB 32.6 MB/s eta 0:00:01\r",
      "\u001b[K     |████████████████████▋           | 808 kB 32.6 MB/s eta 0:00:01\r",
      "\u001b[K     |█████████████████████           | 819 kB 32.6 MB/s eta 0:00:01\r",
      "\u001b[K     |█████████████████████▏          | 829 kB 32.6 MB/s eta 0:00:01\r",
      "\u001b[K     |█████████████████████▍          | 839 kB 32.6 MB/s eta 0:00:01\r",
      "\u001b[K     |█████████████████████▊          | 849 kB 32.6 MB/s eta 0:00:01\r",
      "\u001b[K     |██████████████████████          | 860 kB 32.6 MB/s eta 0:00:01\r",
      "\u001b[K     |██████████████████████▏         | 870 kB 32.6 MB/s eta 0:00:01\r",
      "\u001b[K     |██████████████████████▌         | 880 kB 32.6 MB/s eta 0:00:01\r",
      "\u001b[K     |██████████████████████▊         | 890 kB 32.6 MB/s eta 0:00:01\r",
      "\u001b[K     |███████████████████████         | 901 kB 32.6 MB/s eta 0:00:01\r",
      "\u001b[K     |███████████████████████▎        | 911 kB 32.6 MB/s eta 0:00:01"
     ]
    },
    {
     "name": "stdout",
     "output_type": "stream",
     "text": [
      "\r",
      "\u001b[K     |███████████████████████▌        | 921 kB 32.6 MB/s eta 0:00:01\r",
      "\u001b[K     |███████████████████████▊        | 931 kB 32.6 MB/s eta 0:00:01\r",
      "\u001b[K     |████████████████████████        | 942 kB 32.6 MB/s eta 0:00:01\r",
      "\u001b[K     |████████████████████████▎       | 952 kB 32.6 MB/s eta 0:00:01\r",
      "\u001b[K     |████████████████████████▋       | 962 kB 32.6 MB/s eta 0:00:01\r",
      "\u001b[K     |████████████████████████▉       | 972 kB 32.6 MB/s eta 0:00:01\r",
      "\u001b[K     |█████████████████████████       | 983 kB 32.6 MB/s eta 0:00:01\r",
      "\u001b[K     |█████████████████████████▍      | 993 kB 32.6 MB/s eta 0:00:01\r",
      "\u001b[K     |█████████████████████████▋      | 1.0 MB 32.6 MB/s eta 0:00:01\r",
      "\u001b[K     |█████████████████████████▉      | 1.0 MB 32.6 MB/s eta 0:00:01\r",
      "\u001b[K     |██████████████████████████▏     | 1.0 MB 32.6 MB/s eta 0:00:01\r",
      "\u001b[K     |██████████████████████████▍     | 1.0 MB 32.6 MB/s eta 0:00:01\r",
      "\u001b[K     |██████████████████████████▋     | 1.0 MB 32.6 MB/s eta 0:00:01\r",
      "\u001b[K     |███████████████████████████     | 1.1 MB 32.6 MB/s eta 0:00:01\r",
      "\u001b[K     |███████████████████████████▏    | 1.1 MB 32.6 MB/s eta 0:00:01\r",
      "\u001b[K     |███████████████████████████▍    | 1.1 MB 32.6 MB/s eta 0:00:01\r",
      "\u001b[K     |███████████████████████████▊    | 1.1 MB 32.6 MB/s eta 0:00:01\r",
      "\u001b[K     |████████████████████████████    | 1.1 MB 32.6 MB/s eta 0:00:01\r",
      "\u001b[K     |████████████████████████████▏   | 1.1 MB 32.6 MB/s eta 0:00:01\r",
      "\u001b[K     |████████████████████████████▌   | 1.1 MB 32.6 MB/s eta 0:00:01\r",
      "\u001b[K     |████████████████████████████▊   | 1.1 MB 32.6 MB/s eta 0:00:01\r",
      "\u001b[K     |█████████████████████████████   | 1.1 MB 32.6 MB/s eta 0:00:01\r",
      "\u001b[K     |█████████████████████████████▎  | 1.1 MB 32.6 MB/s eta 0:00:01\r",
      "\u001b[K     |█████████████████████████████▌  | 1.2 MB 32.6 MB/s eta 0:00:01\r",
      "\u001b[K     |█████████████████████████████▉  | 1.2 MB 32.6 MB/s eta 0:00:01\r",
      "\u001b[K     |██████████████████████████████  | 1.2 MB 32.6 MB/s eta 0:00:01\r",
      "\u001b[K     |██████████████████████████████▎ | 1.2 MB 32.6 MB/s eta 0:00:01\r",
      "\u001b[K     |██████████████████████████████▋ | 1.2 MB 32.6 MB/s eta 0:00:01\r",
      "\u001b[K     |██████████████████████████████▉ | 1.2 MB 32.6 MB/s eta 0:00:01\r",
      "\u001b[K     |███████████████████████████████ | 1.2 MB 32.6 MB/s eta 0:00:01\r",
      "\u001b[K     |███████████████████████████████▍| 1.2 MB 32.6 MB/s eta 0:00:01\r",
      "\u001b[K     |███████████████████████████████▋| 1.2 MB 32.6 MB/s eta 0:00:01\r",
      "\u001b[K     |███████████████████████████████▉| 1.2 MB 32.6 MB/s eta 0:00:01\r",
      "\u001b[K     |████████████████████████████████| 1.3 MB 32.6 MB/s \r\n",
      "\u001b[?25hRequirement already satisfied: pyparsing>=2.0.2 in /opt/conda/lib/python3.8/site-packages (from packaging>=17.0->pytorch_lightning) (2.4.7)\r\n",
      "Requirement already satisfied: protobuf>=3.6.0 in /opt/conda/lib/python3.8/site-packages (from tensorboard>=2.2.0->pytorch_lightning) (3.18.1)\r\n",
      "Requirement already satisfied: google-auth<2,>=1.6.3 in /opt/conda/lib/python3.8/site-packages (from tensorboard>=2.2.0->pytorch_lightning) (1.35.0)\r\n",
      "Requirement already satisfied: grpcio>=1.24.3 in /opt/conda/lib/python3.8/site-packages (from tensorboard>=2.2.0->pytorch_lightning) (1.41.0)\r\n",
      "Requirement already satisfied: google-auth-oauthlib<0.5,>=0.4.1 in /opt/conda/lib/python3.8/site-packages (from tensorboard>=2.2.0->pytorch_lightning) (0.4.6)\r\n"
     ]
    },
    {
     "name": "stdout",
     "output_type": "stream",
     "text": [
      "Requirement already satisfied: absl-py>=0.4 in /opt/conda/lib/python3.8/site-packages (from tensorboard>=2.2.0->pytorch_lightning) (0.14.1)\r\n",
      "Requirement already satisfied: wheel>=0.26 in /opt/conda/lib/python3.8/site-packages (from tensorboard>=2.2.0->pytorch_lightning) (0.37.0)\r\n",
      "Requirement already satisfied: tensorboard-data-server<0.7.0,>=0.6.0 in /opt/conda/lib/python3.8/site-packages (from tensorboard>=2.2.0->pytorch_lightning) (0.6.1)\r\n",
      "Requirement already satisfied: werkzeug>=0.11.15 in /opt/conda/lib/python3.8/site-packages (from tensorboard>=2.2.0->pytorch_lightning) (2.0.2)\r\n",
      "Requirement already satisfied: tensorboard-plugin-wit>=1.6.0 in /opt/conda/lib/python3.8/site-packages (from tensorboard>=2.2.0->pytorch_lightning) (1.8.0)\r\n",
      "Requirement already satisfied: markdown>=2.6.8 in /opt/conda/lib/python3.8/site-packages (from tensorboard>=2.2.0->pytorch_lightning) (3.3.4)\r\n",
      "Requirement already satisfied: six in /opt/conda/lib/python3.8/site-packages (from absl-py>=0.4->tensorboard>=2.2.0->pytorch_lightning) (1.16.0)\r\n"
     ]
    },
    {
     "name": "stdout",
     "output_type": "stream",
     "text": [
      "Requirement already satisfied: pyasn1-modules>=0.2.1 in /opt/conda/lib/python3.8/site-packages (from google-auth<2,>=1.6.3->tensorboard>=2.2.0->pytorch_lightning) (0.2.8)\r\n"
     ]
    },
    {
     "name": "stdout",
     "output_type": "stream",
     "text": [
      "Requirement already satisfied: rsa<5,>=3.1.4 in /opt/conda/lib/python3.8/site-packages (from google-auth<2,>=1.6.3->tensorboard>=2.2.0->pytorch_lightning) (4.7.2)\r\n",
      "Requirement already satisfied: cachetools<5.0,>=2.0.0 in /opt/conda/lib/python3.8/site-packages (from google-auth<2,>=1.6.3->tensorboard>=2.2.0->pytorch_lightning) (4.2.4)\r\n",
      "Requirement already satisfied: requests-oauthlib>=0.7.0 in /opt/conda/lib/python3.8/site-packages (from google-auth-oauthlib<0.5,>=0.4.1->tensorboard>=2.2.0->pytorch_lightning) (1.3.0)\r\n",
      "Requirement already satisfied: pyasn1<0.5.0,>=0.4.6 in /opt/conda/lib/python3.8/site-packages (from pyasn1-modules>=0.2.1->google-auth<2,>=1.6.3->tensorboard>=2.2.0->pytorch_lightning) (0.4.8)\r\n"
     ]
    },
    {
     "name": "stdout",
     "output_type": "stream",
     "text": [
      "Requirement already satisfied: charset-normalizer~=2.0.0 in /opt/conda/lib/python3.8/site-packages (from requests->fsspec[http]!=2021.06.0,>=2021.05.0->pytorch_lightning) (2.0.0)\r\n",
      "Requirement already satisfied: urllib3<1.27,>=1.21.1 in /opt/conda/lib/python3.8/site-packages (from requests->fsspec[http]!=2021.06.0,>=2021.05.0->pytorch_lightning) (1.26.7)\r\n",
      "Requirement already satisfied: certifi>=2017.4.17 in /opt/conda/lib/python3.8/site-packages (from requests->fsspec[http]!=2021.06.0,>=2021.05.0->pytorch_lightning) (2021.5.30)\r\n",
      "Requirement already satisfied: idna<4,>=2.5 in /opt/conda/lib/python3.8/site-packages (from requests->fsspec[http]!=2021.06.0,>=2021.05.0->pytorch_lightning) (3.1)\r\n",
      "Requirement already satisfied: oauthlib>=3.0.0 in /opt/conda/lib/python3.8/site-packages (from requests-oauthlib>=0.7.0->google-auth-oauthlib<0.5,>=0.4.1->tensorboard>=2.2.0->pytorch_lightning) (3.1.1)\r\n"
     ]
    },
    {
     "name": "stdout",
     "output_type": "stream",
     "text": [
      "Collecting async-timeout<5.0,>=4.0.0a3\r\n"
     ]
    },
    {
     "name": "stdout",
     "output_type": "stream",
     "text": [
      "  Downloading async_timeout-4.0.2-py3-none-any.whl (5.8 kB)\r\n"
     ]
    },
    {
     "name": "stdout",
     "output_type": "stream",
     "text": [
      "Collecting frozenlist>=1.1.1\r\n",
      "  Downloading frozenlist-1.3.0-cp38-cp38-manylinux_2_5_x86_64.manylinux1_x86_64.manylinux_2_17_x86_64.manylinux2014_x86_64.whl (158 kB)\r\n",
      "\u001b[?25l\r",
      "\u001b[K     |██                              | 10 kB 26.2 MB/s eta 0:00:01\r",
      "\u001b[K     |████▏                           | 20 kB 37.3 MB/s eta 0:00:01\r",
      "\u001b[K     |██████▏                         | 30 kB 48.3 MB/s eta 0:00:01\r",
      "\u001b[K     |████████▎                       | 40 kB 56.7 MB/s eta 0:00:01\r",
      "\u001b[K     |██████████▎                     | 51 kB 29.4 MB/s eta 0:00:01\r",
      "\u001b[K     |████████████▍                   | 61 kB 33.5 MB/s eta 0:00:01\r",
      "\u001b[K     |██████████████▌                 | 71 kB 29.8 MB/s eta 0:00:01\r",
      "\u001b[K     |████████████████▌               | 81 kB 32.9 MB/s eta 0:00:01\r",
      "\u001b[K     |██████████████████▋             | 92 kB 29.9 MB/s eta 0:00:01\r",
      "\u001b[K     |████████████████████▋           | 102 kB 28.7 MB/s eta 0:00:01\r",
      "\u001b[K     |██████████████████████▊         | 112 kB 28.7 MB/s eta 0:00:01\r",
      "\u001b[K     |████████████████████████▉       | 122 kB 28.7 MB/s eta 0:00:01\r",
      "\u001b[K     |██████████████████████████▉     | 133 kB 28.7 MB/s eta 0:00:01\r",
      "\u001b[K     |█████████████████████████████   | 143 kB 28.7 MB/s eta 0:00:01\r",
      "\u001b[K     |███████████████████████████████ | 153 kB 28.7 MB/s eta 0:00:01\r",
      "\u001b[K     |████████████████████████████████| 158 kB 28.7 MB/s \r\n"
     ]
    },
    {
     "name": "stdout",
     "output_type": "stream",
     "text": [
      "\u001b[?25hCollecting yarl<2.0,>=1.0\r\n"
     ]
    },
    {
     "name": "stdout",
     "output_type": "stream",
     "text": [
      "  Downloading yarl-1.7.2-cp38-cp38-manylinux_2_5_x86_64.manylinux1_x86_64.manylinux_2_12_x86_64.manylinux2010_x86_64.whl (308 kB)\r\n",
      "\u001b[?25l\r",
      "\u001b[K     |█                               | 10 kB 41.5 MB/s eta 0:00:01\r",
      "\u001b[K     |██▏                             | 20 kB 52.5 MB/s eta 0:00:01\r",
      "\u001b[K     |███▏                            | 30 kB 65.1 MB/s eta 0:00:01\r",
      "\u001b[K     |████▎                           | 40 kB 73.6 MB/s eta 0:00:01\r",
      "\u001b[K     |█████▎                          | 51 kB 28.8 MB/s eta 0:00:01\r",
      "\u001b[K     |██████▍                         | 61 kB 33.0 MB/s eta 0:00:01\r",
      "\u001b[K     |███████▍                        | 71 kB 31.9 MB/s eta 0:00:01\r",
      "\u001b[K     |████████▌                       | 81 kB 35.3 MB/s eta 0:00:01\r",
      "\u001b[K     |█████████▋                      | 92 kB 38.4 MB/s eta 0:00:01\r",
      "\u001b[K     |██████████▋                     | 102 kB 41.2 MB/s eta 0:00:01\r",
      "\u001b[K     |███████████▊                    | 112 kB 41.2 MB/s eta 0:00:01\r",
      "\u001b[K     |████████████▊                   | 122 kB 41.2 MB/s eta 0:00:01\r",
      "\u001b[K     |█████████████▉                  | 133 kB 41.2 MB/s eta 0:00:01\r",
      "\u001b[K     |██████████████▉                 | 143 kB 41.2 MB/s eta 0:00:01\r",
      "\u001b[K     |████████████████                | 153 kB 41.2 MB/s eta 0:00:01\r",
      "\u001b[K     |█████████████████               | 163 kB 41.2 MB/s eta 0:00:01\r",
      "\u001b[K     |██████████████████              | 174 kB 41.2 MB/s eta 0:00:01\r",
      "\u001b[K     |███████████████████▏            | 184 kB 41.2 MB/s eta 0:00:01\r",
      "\u001b[K     |████████████████████▏           | 194 kB 41.2 MB/s eta 0:00:01\r",
      "\u001b[K     |█████████████████████▎          | 204 kB 41.2 MB/s eta 0:00:01\r",
      "\u001b[K     |██████████████████████▎         | 215 kB 41.2 MB/s eta 0:00:01\r",
      "\u001b[K     |███████████████████████▍        | 225 kB 41.2 MB/s eta 0:00:01\r",
      "\u001b[K     |████████████████████████▍       | 235 kB 41.2 MB/s eta 0:00:01\r",
      "\u001b[K     |█████████████████████████▌      | 245 kB 41.2 MB/s eta 0:00:01\r",
      "\u001b[K     |██████████████████████████▌     | 256 kB 41.2 MB/s eta 0:00:01\r",
      "\u001b[K     |███████████████████████████▋    | 266 kB 41.2 MB/s eta 0:00:01\r",
      "\u001b[K     |████████████████████████████▊   | 276 kB 41.2 MB/s eta 0:00:01\r",
      "\u001b[K     |█████████████████████████████▊  | 286 kB 41.2 MB/s eta 0:00:01\r",
      "\u001b[K     |██████████████████████████████▉ | 296 kB 41.2 MB/s eta 0:00:01\r",
      "\u001b[K     |███████████████████████████████▉| 307 kB 41.2 MB/s eta 0:00:01\r",
      "\u001b[K     |████████████████████████████████| 308 kB 41.2 MB/s \r\n",
      "\u001b[?25hRequirement already satisfied: attrs>=17.3.0 in /opt/conda/lib/python3.8/site-packages (from aiohttp->fsspec[http]!=2021.06.0,>=2021.05.0->pytorch_lightning) (21.2.0)\r\n"
     ]
    },
    {
     "name": "stdout",
     "output_type": "stream",
     "text": [
      "Collecting aiosignal>=1.1.2\r\n",
      "  Downloading aiosignal-1.2.0-py3-none-any.whl (8.2 kB)\r\n"
     ]
    },
    {
     "name": "stdout",
     "output_type": "stream",
     "text": [
      "Collecting multidict<7.0,>=4.5\r\n",
      "  Downloading multidict-6.0.2-cp38-cp38-manylinux_2_17_x86_64.manylinux2014_x86_64.whl (121 kB)\r\n",
      "\u001b[?25l\r",
      "\u001b[K     |██▊                             | 10 kB 44.2 MB/s eta 0:00:01\r",
      "\u001b[K     |█████▍                          | 20 kB 55.2 MB/s eta 0:00:01\r",
      "\u001b[K     |████████                        | 30 kB 68.5 MB/s eta 0:00:01\r",
      "\u001b[K     |██████████▉                     | 40 kB 39.2 MB/s eta 0:00:01\r",
      "\u001b[K     |█████████████▌                  | 51 kB 35.0 MB/s eta 0:00:01\r",
      "\u001b[K     |████████████████▏               | 61 kB 39.9 MB/s eta 0:00:01\r",
      "\u001b[K     |███████████████████             | 71 kB 32.6 MB/s eta 0:00:01\r",
      "\u001b[K     |█████████████████████▋          | 81 kB 36.0 MB/s eta 0:00:01\r",
      "\u001b[K     |████████████████████████▎       | 92 kB 35.4 MB/s eta 0:00:01\r",
      "\u001b[K     |███████████████████████████     | 102 kB 27.0 MB/s eta 0:00:01\r",
      "\u001b[K     |█████████████████████████████▊  | 112 kB 27.0 MB/s eta 0:00:01\r",
      "\u001b[K     |████████████████████████████████| 121 kB 27.0 MB/s \r\n"
     ]
    },
    {
     "name": "stdout",
     "output_type": "stream",
     "text": [
      "\u001b[?25hInstalling collected packages: setuptools, multidict, frozenlist, yarl, async-timeout, aiosignal, pyDeprecate, fsspec, aiohttp, torchmetrics, pytorch-lightning\r\n",
      "  Attempting uninstall: setuptools\r\n",
      "    Found existing installation: setuptools 58.2.0\r\n",
      "    Uninstalling setuptools-58.2.0:\r\n"
     ]
    },
    {
     "name": "stdout",
     "output_type": "stream",
     "text": [
      "      Successfully uninstalled setuptools-58.2.0\r\n"
     ]
    },
    {
     "name": "stdout",
     "output_type": "stream",
     "text": [
      "Successfully installed aiohttp-3.8.1 aiosignal-1.2.0 async-timeout-4.0.2 frozenlist-1.3.0 fsspec-2022.1.0 multidict-6.0.2 pyDeprecate-0.3.1 pytorch-lightning-1.5.10 setuptools-59.5.0 torchmetrics-0.7.2 yarl-1.7.2\r\n",
      "\u001b[33mWARNING: Running pip as the 'root' user can result in broken permissions and conflicting behaviour with the system package manager. It is recommended to use a virtual environment instead: https://pip.pypa.io/warnings/venv\u001b[0m\r\n"
     ]
    }
   ],
   "source": [
    "!pip install pytorch_lightning"
   ]
  },
  {
   "cell_type": "code",
   "execution_count": null,
   "metadata": {
    "collapsed": false,
    "gradient": {
     "editing": false,
     "id": "26241075-9364-4684-941f-352600993315",
     "kernelId": "7decba31-cf39-41d5-90ab-e5e78fe9399b",
     "source_hidden": false
    }
   },
   "outputs": [],
   "source": [
    "import pytorch_lightning as pl\n"
   ]
  },
  {
   "cell_type": "code",
   "execution_count": null,
   "metadata": {
    "collapsed": false,
    "gradient": {
     "editing": false,
     "id": "2fcc6e2f-2a3b-4a4b-8e75-0a2bc2c225d5",
     "kernelId": "7decba31-cf39-41d5-90ab-e5e78fe9399b",
     "source_hidden": false
    }
   },
   "outputs": [],
   "source": [
    "class EncoderRNNDeep(pl.LightningModule):\n",
    "    def __init__(self, input_size, hidden_size):\n",
    "        super(EncoderRNNDeep, self).__init__()\n",
    "        self.hidden_size = hidden_size\n",
    "\n",
    "        self.embedding = nn.Embedding(input_size, hidden_size)\n",
    "        self.gru = nn.GRU(hidden_size, hidden_size)\n",
    "\n",
    "    def forward(self, input, hidden):\n",
    "        embedded = self.embedding(input).view(1, 1, -1)\n",
    "        output = embedded\n",
    "        output, hidden = self.gru(output, hidden)\n",
    "        return output, hidden\n",
    "\n",
    "    def initHidden(self):\n",
    "        return torch.zeros(1, 1, self.hidden_size, device=device)"
   ]
  },
  {
   "cell_type": "code",
   "execution_count": null,
   "metadata": {
    "collapsed": false,
    "gradient": {
     "editing": false,
     "id": "3acd630d-f53e-4836-85dd-8a165142acd5",
     "kernelId": "7decba31-cf39-41d5-90ab-e5e78fe9399b",
     "source_hidden": false
    }
   },
   "outputs": [],
   "source": [
    "class DecoderRNNDeep(pl.LightningModule):\n",
    "    def __init__(self, hidden_size, output_size):\n",
    "        super(DecoderRNNDeep, self).__init__()\n",
    "        self.hidden_size = hidden_size\n",
    "\n",
    "        self.embedding = nn.Embedding(output_size, hidden_size)\n",
    "        self.gru = nn.GRU(hidden_size, hidden_size)\n",
    "        self.out = nn.Linear(hidden_size, output_size)\n",
    "        self.softmax = nn.LogSoftmax(dim=1)\n",
    "\n",
    "    def forward(self, input, hidden):\n",
    "        output = self.embedding(input).view(1, 1, -1)\n",
    "        output = F.relu(output)\n",
    "        output, hidden = self.gru(output, hidden)\n",
    "        output = self.softmax(self.out(output[0]))\n",
    "        return output, hidden\n",
    "\n",
    "    def initHidden(self):\n",
    "        return torch.zeros(1, 1, self.hidden_size, device=device)"
   ]
  },
  {
   "cell_type": "code",
   "execution_count": null,
   "metadata": {
    "collapsed": false,
    "gradient": {
     "editing": false,
     "id": "fb253e09-1b7e-44ac-8658-011d403c4348",
     "kernelId": "7decba31-cf39-41d5-90ab-e5e78fe9399b",
     "source_hidden": false
    }
   },
   "outputs": [],
   "source": [
    "class AttnDecoderRNNDeep(pl.LightningModule):\n",
    "    def __init__(self, hidden_size, output_size, dropout_p=0.1, max_length=MAX_LENGTH):\n",
    "        super(AttnDecoderRNNDeep, self).__init__()\n",
    "        self.hidden_size = hidden_size\n",
    "        self.output_size = output_size\n",
    "        self.dropout_p = dropout_p\n",
    "        self.max_length = max_length\n",
    "\n",
    "        self.embedding = nn.Embedding(self.output_size, self.hidden_size)\n",
    "        self.attn = nn.Linear(self.hidden_size * 2, self.max_length)\n",
    "        self.attn_combine = nn.Linear(self.hidden_size * 2, self.hidden_size)\n",
    "        self.dropout = nn.Dropout(self.dropout_p)\n",
    "        self.gru = nn.GRU(self.hidden_size, self.hidden_size)\n",
    "        self.out = nn.Linear(self.hidden_size, self.output_size)\n",
    "\n",
    "    def forward(self, input, hidden, encoder_outputs):\n",
    "        embedded = self.embedding(input).view(1, 1, -1)\n",
    "        embedded = self.dropout(embedded)\n",
    "\n",
    "        attn_weights = F.softmax(\n",
    "            self.attn(torch.cat((embedded[0], hidden[0]), 1)), dim=1)\n",
    "        attn_applied = torch.bmm(attn_weights.unsqueeze(0),\n",
    "                                 encoder_outputs.unsqueeze(0))\n",
    "\n",
    "        output = torch.cat((embedded[0], attn_applied[0]), 1)\n",
    "        output = self.attn_combine(output).unsqueeze(0)\n",
    "\n",
    "        output = F.relu(output)\n",
    "        output, hidden = self.gru(output, hidden)\n",
    "\n",
    "        output = F.log_softmax(self.out(output[0]), dim=1)\n",
    "        return output, hidden, attn_weights\n",
    "\n",
    "    def initHidden(self):\n",
    "        return torch.zeros(1, 1, self.hidden_size, device=device)"
   ]
  },
  {
   "cell_type": "code",
   "execution_count": null,
   "metadata": {
    "collapsed": false,
    "gradient": {
     "editing": false,
     "id": "6d773b1b-f72e-48ec-b1eb-e5bdaaba8c75",
     "kernelId": "7decba31-cf39-41d5-90ab-e5e78fe9399b",
     "source_hidden": false
    }
   },
   "outputs": [],
   "source": [
    "teacher_forcing_ratio = 0.5\n",
    "\n",
    "\n",
    "def train(input_tensor, target_tensor, encoder, decoder, encoder_optimizer, decoder_optimizer, criterion, max_length=MAX_LENGTH):\n",
    "    encoder_hidden = encoder.initHidden()\n",
    "\n",
    "    encoder_optimizer.zero_grad()\n",
    "    decoder_optimizer.zero_grad()\n",
    "\n",
    "    input_length = input_tensor.size(0)\n",
    "    target_length = target_tensor.size(0)\n",
    "\n",
    "    encoder_outputs = torch.zeros(max_length, encoder.hidden_size, device=device)\n",
    "\n",
    "    loss = 0\n",
    "\n",
    "    for ei in range(input_length):\n",
    "        encoder_output, encoder_hidden = encoder(\n",
    "            input_tensor[ei], encoder_hidden)\n",
    "        encoder_outputs[ei] = encoder_output[0, 0]\n",
    "\n",
    "    decoder_input = torch.tensor([[SOS_token]], device=device)\n",
    "\n",
    "    decoder_hidden = encoder_hidden\n",
    "\n",
    "    use_teacher_forcing = True if random.random() < teacher_forcing_ratio else False\n",
    "\n",
    "    if use_teacher_forcing:\n",
    "        # Teacher forcing: Feed the target as the next input\n",
    "        for di in range(target_length):\n",
    "            decoder_output, decoder_hidden, decoder_attention = decoder(\n",
    "                decoder_input, decoder_hidden, encoder_outputs)\n",
    "            loss += criterion(decoder_output, target_tensor[di])\n",
    "            decoder_input = target_tensor[di]  # Teacher forcing\n",
    "\n",
    "    else:\n",
    "        # Without teacher forcing: use its own predictions as the next input\n",
    "        for di in range(target_length):\n",
    "            decoder_output, decoder_hidden, decoder_attention = decoder(\n",
    "                decoder_input, decoder_hidden, encoder_outputs)\n",
    "            topv, topi = decoder_output.topk(1)\n",
    "            decoder_input = topi.squeeze().detach()  # detach from history as input\n",
    "\n",
    "            loss += criterion(decoder_output, target_tensor[di])\n",
    "            if decoder_input.item() == EOS_token:\n",
    "                break\n",
    "\n",
    "    loss.backward()\n",
    "\n",
    "    encoder_optimizer.step()\n",
    "    decoder_optimizer.step()\n",
    "\n",
    "    return loss.item() / target_length"
   ]
  },
  {
   "cell_type": "code",
   "execution_count": null,
   "metadata": {
    "collapsed": false,
    "gradient": {
     "editing": false,
     "id": "837dc399-430a-4088-848e-40eee3cbcccb",
     "kernelId": "7decba31-cf39-41d5-90ab-e5e78fe9399b",
     "source_hidden": false
    }
   },
   "outputs": [],
   "source": [
    "def trainIters(encoder, decoder, n_iters, print_every=1000, plot_every=100):\n",
    "    start = time.time()\n",
    "    plot_losses = []\n",
    "    print_loss_total = 0  # Reset every print_every\n",
    "    plot_loss_total = 0  # Reset every plot_every\n",
    "\n",
    "    encoder_optimizer = optim.Adagrad(encoder.parameters())\n",
    "    decoder_optimizer = optim.Adagrad(decoder.parameters())\n",
    "    training_pairs = [tensorsFromPair(random.choice(pairs))\n",
    "                      for i in range(n_iters)]\n",
    "    criterion = nn.CrossEntropyLoss()\n",
    "\n",
    "    for iter in range(1, n_iters + 1):\n",
    "        training_pair = training_pairs[iter - 1]\n",
    "        input_tensor = training_pair[0]\n",
    "        target_tensor = training_pair[1]\n",
    "\n",
    "        loss = train(input_tensor, target_tensor, encoder,\n",
    "                     decoder, encoder_optimizer, decoder_optimizer, criterion)\n",
    "        print_loss_total += loss\n",
    "        plot_loss_total += loss\n",
    "\n",
    "        if iter % print_every == 0:\n",
    "            print_loss_avg = print_loss_total / print_every\n",
    "            print_loss_total = 0\n",
    "            print('%s (%d %d%%) %.4f' % (timeSince(start, iter / n_iters),\n",
    "                                         iter, iter / n_iters * 100, print_loss_avg))\n",
    "\n",
    "        if iter % plot_every == 0:\n",
    "            plot_loss_avg = plot_loss_total / plot_every\n",
    "            plot_losses.append(plot_loss_avg)\n",
    "            plot_loss_total = 0\n",
    "\n",
    "    showPlot(plot_losses)"
   ]
  },
  {
   "cell_type": "code",
   "execution_count": null,
   "metadata": {
    "collapsed": false,
    "gradient": {
     "editing": false,
     "id": "62f23ec3-6586-42ed-b134-e20644f1cd8c",
     "kernelId": "7decba31-cf39-41d5-90ab-e5e78fe9399b",
     "source_hidden": false
    }
   },
   "outputs": [],
   "source": [
    "import matplotlib.pyplot as plt\n",
    "plt.switch_backend('agg')\n",
    "import matplotlib.ticker as ticker\n",
    "import numpy as np\n",
    "\n",
    "\n",
    "def showPlot(points):\n",
    "    plt.figure()\n",
    "    fig, ax = plt.subplots()\n",
    "    # this locator puts ticks at regular intervals\n",
    "    loc = ticker.MultipleLocator(base=0.2)\n",
    "    ax.yaxis.set_major_locator(loc)\n",
    "    plt.plot(points)"
   ]
  },
  {
   "cell_type": "code",
   "execution_count": null,
   "metadata": {
    "collapsed": false,
    "gradient": {
     "editing": false,
     "id": "d263b8a1-b98d-4f02-aae4-8ca0992ad0e0",
     "kernelId": "7decba31-cf39-41d5-90ab-e5e78fe9399b",
     "source_hidden": false
    }
   },
   "outputs": [],
   "source": [
    "def evaluate(encoder, decoder, sentence, max_length=MAX_LENGTH):\n",
    "    with torch.no_grad():\n",
    "        input_tensor = tensorFromSentence(input_lang, sentence)\n",
    "        input_length = input_tensor.size()[0]\n",
    "        encoder_hidden = encoder.initHidden()\n",
    "\n",
    "        encoder_outputs = torch.zeros(max_length, encoder.hidden_size, device=device)\n",
    "\n",
    "        for ei in range(input_length):\n",
    "            encoder_output, encoder_hidden = encoder(input_tensor[ei],\n",
    "                                                     encoder_hidden)\n",
    "            encoder_outputs[ei] += encoder_output[0, 0]\n",
    "\n",
    "        decoder_input = torch.tensor([[SOS_token]], device=device)  # SOS\n",
    "\n",
    "        decoder_hidden = encoder_hidden\n",
    "\n",
    "        decoded_words = []\n",
    "        decoder_attentions = torch.zeros(max_length, max_length)\n",
    "\n",
    "        for di in range(max_length):\n",
    "            decoder_output, decoder_hidden, decoder_attention = decoder(\n",
    "                decoder_input, decoder_hidden, encoder_outputs)\n",
    "            decoder_attentions[di] = decoder_attention.data\n",
    "            topv, topi = decoder_output.data.topk(1)\n",
    "            if topi.item() == EOS_token:\n",
    "                decoded_words.append('<EOS>')\n",
    "                break\n",
    "            else:\n",
    "                decoded_words.append(output_lang.index2word[topi.item()])\n",
    "\n",
    "            decoder_input = topi.squeeze().detach()\n",
    "\n",
    "        return decoded_words, decoder_attentions[:di + 1]"
   ]
  },
  {
   "cell_type": "code",
   "execution_count": null,
   "metadata": {
    "collapsed": false,
    "gradient": {
     "editing": false,
     "id": "d2ef8f72-f6d1-4d18-95cb-f51c06ce5129",
     "kernelId": "7decba31-cf39-41d5-90ab-e5e78fe9399b",
     "source_hidden": false
    }
   },
   "outputs": [
    {
     "name": "stdout",
     "output_type": "stream",
     "text": [
      "0m 23s (- 3m 30s) (1000 10%) 5.5337\n"
     ]
    },
    {
     "name": "stdout",
     "output_type": "stream",
     "text": [
      "0m 47s (- 3m 8s) (2000 20%) 5.3168\n"
     ]
    },
    {
     "ename": "KeyboardInterrupt",
     "evalue": "",
     "output_type": "error",
     "traceback": [
      "\u001b[0;31m---------------------------------------------------------------------------\u001b[0m",
      "\u001b[0;31mKeyboardInterrupt\u001b[0m                         Traceback (most recent call last)",
      "\u001b[0;32m/tmp/ipykernel_719/2194057063.py\u001b[0m in \u001b[0;36m<module>\u001b[0;34m\u001b[0m\n\u001b[1;32m      3\u001b[0m \u001b[0mattn_decoder1Deep\u001b[0m \u001b[0;34m=\u001b[0m \u001b[0mAttnDecoderRNNDeep\u001b[0m\u001b[0;34m(\u001b[0m\u001b[0mhidden_size\u001b[0m\u001b[0;34m,\u001b[0m \u001b[0moutput_lang\u001b[0m\u001b[0;34m.\u001b[0m\u001b[0mn_words\u001b[0m\u001b[0;34m,\u001b[0m \u001b[0mdropout_p\u001b[0m\u001b[0;34m=\u001b[0m\u001b[0;36m0.1\u001b[0m\u001b[0;34m)\u001b[0m\u001b[0;34m.\u001b[0m\u001b[0mto\u001b[0m\u001b[0;34m(\u001b[0m\u001b[0mdevice\u001b[0m\u001b[0;34m)\u001b[0m\u001b[0;34m\u001b[0m\u001b[0;34m\u001b[0m\u001b[0m\n\u001b[1;32m      4\u001b[0m \u001b[0;34m\u001b[0m\u001b[0m\n\u001b[0;32m----> 5\u001b[0;31m \u001b[0mtrainIters\u001b[0m\u001b[0;34m(\u001b[0m\u001b[0mencoder1Deep\u001b[0m\u001b[0;34m,\u001b[0m \u001b[0mattn_decoder1Deep\u001b[0m\u001b[0;34m,\u001b[0m \u001b[0;36m10000\u001b[0m\u001b[0;34m,\u001b[0m \u001b[0mprint_every\u001b[0m\u001b[0;34m=\u001b[0m\u001b[0;36m1000\u001b[0m\u001b[0;34m)\u001b[0m\u001b[0;34m\u001b[0m\u001b[0;34m\u001b[0m\u001b[0m\n\u001b[0m",
      "\u001b[0;32m/tmp/ipykernel_719/2802524264.py\u001b[0m in \u001b[0;36mtrainIters\u001b[0;34m(encoder, decoder, n_iters, print_every, plot_every)\u001b[0m\n\u001b[1;32m     16\u001b[0m         \u001b[0mtarget_tensor\u001b[0m \u001b[0;34m=\u001b[0m \u001b[0mtraining_pair\u001b[0m\u001b[0;34m[\u001b[0m\u001b[0;36m1\u001b[0m\u001b[0;34m]\u001b[0m\u001b[0;34m\u001b[0m\u001b[0;34m\u001b[0m\u001b[0m\n\u001b[1;32m     17\u001b[0m \u001b[0;34m\u001b[0m\u001b[0m\n\u001b[0;32m---> 18\u001b[0;31m         loss = train(input_tensor, target_tensor, encoder,\n\u001b[0m\u001b[1;32m     19\u001b[0m                      decoder, encoder_optimizer, decoder_optimizer, criterion)\n\u001b[1;32m     20\u001b[0m         \u001b[0mprint_loss_total\u001b[0m \u001b[0;34m+=\u001b[0m \u001b[0mloss\u001b[0m\u001b[0;34m\u001b[0m\u001b[0;34m\u001b[0m\u001b[0m\n",
      "\u001b[0;31mKeyboardInterrupt\u001b[0m: "
     ]
    }
   ],
   "source": [
    "hidden_size = 256\n",
    "encoder1Deep = EncoderRNNDeep(input_lang.n_words, hidden_size).to(device)\n",
    "attn_decoder1Deep = AttnDecoderRNNDeep(hidden_size, output_lang.n_words, dropout_p=0.1).to(device)\n",
    "\n",
    "trainIters(encoder1Deep, attn_decoder1Deep, 10000, print_every=1000)"
   ]
  },
  {
   "cell_type": "code",
   "execution_count": null,
   "metadata": {
    "collapsed": false,
    "gradient": {
     "editing": false,
     "id": "adf301f2-b177-4c81-abff-2a57e8dcd64b",
     "kernelId": "7decba31-cf39-41d5-90ab-e5e78fe9399b",
     "source_hidden": false
    }
   },
   "outputs": [],
   "source": []
  }
 ],
 "metadata": {
  "kernelspec": {
   "display_name": "Python 3",
   "language": "python",
   "name": "python3"
  },
  "language_info": {
   "codemirror_mode": {
    "name": "ipython",
    "version": 3
   },
   "file_extension": ".py",
   "mimetype": "text/x-python",
   "name": "python",
   "nbconvert_exporter": "python",
   "pygments_lexer": "ipython3",
   "version": "3.6.13"
  }
 },
 "nbformat": 4,
 "nbformat_minor": 0
}
